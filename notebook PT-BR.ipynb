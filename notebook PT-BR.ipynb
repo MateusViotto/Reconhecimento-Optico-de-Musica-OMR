{
 "cells": [
  {
   "cell_type": "markdown",
   "metadata": {
    "id": "Nr19b53i3Vbj"
   },
   "source": [
    "# Compondo com inteligência\n",
    "Mateus Augusto Viotto - PC3008967"
   ]
  },
  {
   "cell_type": "markdown",
   "metadata": {
    "id": "2Bs2QNYL3Q3J"
   },
   "source": [
    "## Bibliotecas"
   ]
  },
  {
   "cell_type": "code",
   "execution_count": 1,
   "metadata": {
    "id": "RgaegRY5wUNk"
   },
   "outputs": [],
   "source": [
    "import numpy as np\n",
    "from skimage import io, transform, util\n",
    "import skimage\n",
    "import cv2\n",
    "import tensorflow.compat.v1 as tf\n",
    "import itertools\n",
    "import pandas as pd\n",
    "#from google.colab.patches import cv2_imshow"
   ]
  },
  {
   "cell_type": "markdown",
   "metadata": {
    "id": "KFcsKQD_MfN7"
   },
   "source": [
    "### Altere para os diretórios correspondentes"
   ]
  },
  {
   "cell_type": "code",
   "execution_count": 2,
   "metadata": {
    "id": "tNyc7IYaMcHU"
   },
   "outputs": [
    {
     "name": "stderr",
     "output_type": "stream",
     "text": [
      "C:\\Users\\mateu\\AppData\\Local\\Temp\\ipykernel_14256\\3114606133.py:7: FutureWarning: The default value of regex will change from True to False in a future version.\n",
      "  gracenote['oitava'] = gracenote['oitava'].astype(str).str.replace('.0', '')\n",
      "C:\\Users\\mateu\\AppData\\Local\\Temp\\ipykernel_14256\\3114606133.py:12: FutureWarning: The default value of regex will change from True to False in a future version.\n",
      "  notes['oitava'] = notes['oitava'].astype(str).str.replace('.0', '')\n"
     ]
    }
   ],
   "source": [
    "diretorio_imagem = 'img.png'\n",
    "diretorio_vocabulario = 'vocabulary_semantic.txt' #ALTERE PARA O DIRETÓRIO DO VOCABULARIO DISPONÍVEL EM https://github.com/OMR-Research/tf-end-to-end/blob/master/Data/vocabulary_semantic.txt\n",
    "diretorio_modelo = 'model\\semantic_model.meta' #ALTERE PARA O DIRETÓRIO DO MODELO DISPONÍVEL EM https://grfia.dlsi.ua.es/primus/models/PrIMuS/Semantic-Model.zip\n",
    "\n",
    "clef = pd.read_excel('clef.xlsx')\n",
    "gracenote = pd.read_excel('gracenote.xlsx')\n",
    "gracenote['oitava'] = gracenote['oitava'].astype(str).str.replace('.0', '')\n",
    "\n",
    "keySignature = pd.read_excel('keySignature.xlsx')\n",
    "\n",
    "notes = pd.read_excel('notes.xlsx')\n",
    "notes['oitava'] = notes['oitava'].astype(str).str.replace('.0', '')\n",
    "\n",
    "options = pd.read_excel('options.xlsx')\n",
    "rest = pd.read_excel('rest.xlsx')\n",
    "timeSignature = pd.read_excel('timeSignature.xlsx')"
   ]
  },
  {
   "cell_type": "markdown",
   "metadata": {
    "id": "iVaMLpZfOIhL"
   },
   "source": [
    "## Funções ler e salvar"
   ]
  },
  {
   "cell_type": "markdown",
   "metadata": {
    "id": "awBxLx9G3k34"
   },
   "source": [
    "Salva a imagem em formato *jpg* no diretório atual."
   ]
  },
  {
   "cell_type": "code",
   "execution_count": 3,
   "metadata": {
    "id": "SByYw4ZsGJCF"
   },
   "outputs": [],
   "source": [
    "def salvar_imagem(imagem, nome):\n",
    "  io.imsave(nome+'.jpg', imagem)"
   ]
  },
  {
   "cell_type": "markdown",
   "metadata": {
    "id": "t8HFJYVkYljM"
   },
   "source": [
    "Lê o vocabulário armazenado no arquito *txt* e armazena em um dicionário."
   ]
  },
  {
   "cell_type": "code",
   "execution_count": 4,
   "metadata": {
    "id": "Fiqtxoodx3l-"
   },
   "outputs": [],
   "source": [
    "def ler_vocabulario(diretorio):\n",
    "  # Abra o arquivo para leitura\n",
    "  with open(diretorio, 'r') as arquivo:\n",
    "      # Leia as linhas e armazene em uma lista\n",
    "      linhas = arquivo.readlines()\n",
    "\n",
    "  # Cada elemento da lista representa uma linha do arquivo\n",
    "\n",
    "  dicionario = dict()\n",
    "  i = 0\n",
    "  for palavra in linhas:\n",
    "\n",
    "      dicionario[i] = palavra.replace(\"\\n\", \"\")\n",
    "      i += 1\n",
    "  return dicionario\n"
   ]
  },
  {
   "cell_type": "markdown",
   "metadata": {
    "id": "kyk7-aqO3LZp"
   },
   "source": [
    "## Funções Pré-processamento"
   ]
  },
  {
   "cell_type": "markdown",
   "metadata": {
    "id": "0Wko6Qfx3uch"
   },
   "source": [
    "Converte uma imagem colorida para escala de cinza."
   ]
  },
  {
   "cell_type": "code",
   "execution_count": 5,
   "metadata": {
    "id": "FiBdr7pRErOe"
   },
   "outputs": [],
   "source": [
    "def deixar_cinza(imagem):\n",
    "  return cv2.cvtColor(imagem, cv2.COLOR_BGR2GRAY)"
   ]
  },
  {
   "cell_type": "markdown",
   "metadata": {
    "id": "21bTJoJv36LK"
   },
   "source": [
    "Binariza a imagem utilizando o método *threshold_sauvola*."
   ]
  },
  {
   "cell_type": "code",
   "execution_count": 6,
   "metadata": {
    "id": "GMijztmX0D6e"
   },
   "outputs": [],
   "source": [
    "def binarizar(image):\n",
    "  from skimage.filters import threshold_sauvola\n",
    "\n",
    "  # tamanho da janela de cálculo local do limiar\n",
    "  window_size = 101\n",
    "\n",
    "  # fator de sensibilidade\n",
    "  k = 0.2\n",
    "\n",
    "  # Calcule o limiar de Sauvola\n",
    "  threshold = threshold_sauvola(image, window_size=window_size, k=k)\n",
    "\n",
    "  # Aplique o limiar à imagem para binarizá-la\n",
    "  binary_image = image > threshold\n",
    "\n",
    "  return binary_image\n"
   ]
  },
  {
   "cell_type": "markdown",
   "metadata": {
    "id": "INuvxKeT4I7b"
   },
   "source": [
    "Plota um gráfico horizontal da projeção horizontal para visualização da linha de pauta."
   ]
  },
  {
   "cell_type": "code",
   "execution_count": 7,
   "metadata": {
    "id": "sKNxQF2l0chP"
   },
   "outputs": [],
   "source": [
    "def linhadepauta(projection_data):\n",
    "  import matplotlib.pyplot as plt\n",
    "\n",
    "  # Combina os arrays em um único array\n",
    "  combined_data = [item for sublist in projection_data for item in sublist]\n",
    "\n",
    "  # Define o intervalo de exibição no eixo X\n",
    "  x_values = range(1, len(combined_data) + 1)  # De 1 a N\n",
    "\n",
    "  # Define o passo para os rótulos do eixo X (exibe a cada 300 valores)\n",
    "  x_ticks = list(range(1, len(combined_data) + 1, 50))  # Exibe a cada 300 valores\n",
    "\n",
    "  # Cria um gráfico de barras horizontais\n",
    "  plt.barh(x_values, combined_data, color='black')\n",
    "\n",
    "  # Inverte o eixo Y para que os valores mais altos fiquem no topo\n",
    "  plt.gca().invert_yaxis()\n",
    "\n",
    "  # Configura os rótulos do eixo X\n",
    "  plt.yticks(x_ticks, x_ticks)\n",
    "\n",
    "  plt.show()"
   ]
  },
  {
   "cell_type": "markdown",
   "metadata": {
    "id": "Cn_73yBX4cUY"
   },
   "source": [
    "Calcula a projeção horizontal."
   ]
  },
  {
   "cell_type": "code",
   "execution_count": 8,
   "metadata": {
    "id": "5S4i6tqezdRG"
   },
   "outputs": [],
   "source": [
    "def calcular_projecao(img_data, col_row=1):\n",
    "    # Cria uma máscara onde os valores 0 na imagem original são mapeados para 1, e outros para 0\n",
    "    mask = np.uint8(np.where(img_data == 0, 1, 0))\n",
    "\n",
    "    # Calcula a projeção somando os valores na máscara ao longo de uma coluna (col_row=1) ou linha (col_row=0)\n",
    "    # REDUCE_SUM realiza a soma\n",
    "    # dtype=cv2.CV_32SC1 define o tipo de dados do resultado como 32 bits com sinal\n",
    "    count = cv2.reduce(mask, col_row, cv2.REDUCE_SUM, dtype=cv2.CV_32SC1)\n",
    "\n",
    "    return count"
   ]
  },
  {
   "cell_type": "markdown",
   "metadata": {
    "id": "ux2GOiMf4hFw"
   },
   "source": [
    "Rotaciona a imagem."
   ]
  },
  {
   "cell_type": "code",
   "execution_count": 9,
   "metadata": {
    "id": "BzGq7Y54Donp"
   },
   "outputs": [],
   "source": [
    "def girar_imagem(img_data, angle):\n",
    "\n",
    "  # Rotacionar a imagem\n",
    "  new_image = util.img_as_ubyte(transform.rotate(img_data, angle, mode='wrap'))\n",
    "\n",
    "  return new_image"
   ]
  },
  {
   "cell_type": "markdown",
   "metadata": {
    "id": "veiWO21Q4lqa"
   },
   "source": [
    "Endireita a imagem, rotacionando-a caso esteja inclinada."
   ]
  },
  {
   "cell_type": "code",
   "execution_count": 10,
   "metadata": {
    "id": "Fq1pn1-wHmke"
   },
   "outputs": [],
   "source": [
    "def alinhar_linhas(img_data):\n",
    "    best_image = None  # Variável para armazenar a melhor imagem alinhada\n",
    "    maximum = 0  # Variável para armazenar o valor máximo de projeção\n",
    "\n",
    "    # Loop através de diferentes ângulos de rotação\n",
    "    for i in range(-40, 40):\n",
    "        angle = 0.25 * i  # Calcula o ângulo de rotação correspondente\n",
    "\n",
    "        # Gira a imagem original pelo ângulo calculado\n",
    "        new_image = girar_imagem(img_data, angle)\n",
    "\n",
    "        # Binariza a nova imagem (converte para imagem binária)\n",
    "        binary_image = binarizar(new_image)\n",
    "\n",
    "        # Calcula a projeção horizontal da imagem binária\n",
    "        horizontal_projection = calcular_projecao(binary_image)\n",
    "\n",
    "        # Encontra o valor máximo na projeção horizontal\n",
    "        max_projection = max(horizontal_projection)\n",
    "\n",
    "        # Verifica se o valor máximo encontrado é maior que o máximo atual\n",
    "        if max_projection > maximum:\n",
    "            best_image = new_image  # Se for maior, atualiza a melhor imagem\n",
    "            maximum = max_projection  # Atualiza o valor máximo\n",
    "\n",
    "    return best_image  # Retorna a melhor imagem alinhada"
   ]
  },
  {
   "cell_type": "code",
   "execution_count": 11,
   "metadata": {},
   "outputs": [],
   "source": [
    "def get_reference_lenghts(img_data):\n",
    "    black_runs = {}\n",
    "    white_runs = {}\n",
    "    for i in range(img_data.shape[1]): # for all columns\n",
    "        col = img_data[:,i]\n",
    "        for k, g in itertools.groupby(col):\n",
    "            length = len(list(g))\n",
    "            if k == 0:\n",
    "                black_runs[length] = black_runs.get(length, 0) + 1\n",
    "            else:\n",
    "                white_runs[length] = white_runs.get(length, 0) + 1\n",
    "    line_thickness = max(black_runs, key=black_runs.get)\n",
    "    staff_space = max(white_runs, key=white_runs.get)\n",
    "    return(line_thickness, staff_space)"
   ]
  },
  {
   "cell_type": "markdown",
   "metadata": {
    "id": "esa0XDg_Oor7"
   },
   "source": [
    "## Funções Identificar Símbolos"
   ]
  },
  {
   "cell_type": "code",
   "execution_count": 12,
   "metadata": {},
   "outputs": [],
   "source": [
    "def normalize(image):\n",
    "    return (255. - image)/255."
   ]
  },
  {
   "cell_type": "code",
   "execution_count": 13,
   "metadata": {},
   "outputs": [],
   "source": [
    "def resize(image, height):\n",
    "    width = int(float(height * image.shape[1]) / image.shape[0])\n",
    "    sample_img = cv2.resize(image, (width, height))\n",
    "    return sample_img"
   ]
  },
  {
   "cell_type": "code",
   "execution_count": 14,
   "metadata": {},
   "outputs": [],
   "source": [
    "def sparse_tensor_to_strs(sparse_tensor):\n",
    "    indices= sparse_tensor[0][0]\n",
    "    values = sparse_tensor[0][1]\n",
    "    dense_shape = sparse_tensor[0][2]\n",
    "\n",
    "    strs = [ [] for i in range(dense_shape[0]) ]\n",
    "\n",
    "    string = []\n",
    "    ptr = 0\n",
    "    b = 0\n",
    "\n",
    "    for idx in range(len(indices)):\n",
    "        if indices[idx][0] != b:\n",
    "            strs[b] = string\n",
    "            string = []\n",
    "            b = indices[idx][0]\n",
    "\n",
    "        string.append(values[ptr])\n",
    "\n",
    "        ptr = ptr + 1\n",
    "\n",
    "    strs[b] = string\n",
    "\n",
    "    return strs"
   ]
  },
  {
   "cell_type": "code",
   "execution_count": 15,
   "metadata": {},
   "outputs": [],
   "source": [
    "def identificar_simbolos(imagem, vocabulario, diretorio):\n",
    "    # Desabilita a execução ansiosa\n",
    "    tf.compat.v1.disable_eager_execution()\n",
    "    # Cria um novo grafo padrão do TensorFlow\n",
    "    tf.reset_default_graph()\n",
    "    sess = tf.InteractiveSession()\n",
    "    # Cria um objeto Saver para importar o modelo\n",
    "    saver = tf.train.import_meta_graph(diretorio)\n",
    "\n",
    "    # Restaura os parâmetros do modelo a partir do arquivo\n",
    "    saver.restore(sess, diretorio[:-5])  # Remove a extensão \".meta\" do diretório\n",
    "    graph = tf.get_default_graph()\n",
    "    \n",
    "    # Obter tensores necessários do grafo\n",
    "    input = graph.get_tensor_by_name(\"model_input:0\")  # Dados de entrada\n",
    "    seq_len = graph.get_tensor_by_name(\"seq_lengths:0\")  # Comprimento da sequência\n",
    "    rnn_keep_prob = graph.get_tensor_by_name(\"keep_prob:0\")  # Probabilidade de manter unidades\n",
    "    height_tensor = graph.get_tensor_by_name(\"input_height:0\")  # Altura da entrada\n",
    "    width_reduction_tensor = graph.get_tensor_by_name(\"width_reduction:0\")  # Redução de largura\n",
    "    logits = tf.get_collection(\"logits\")[0]  # Saídas da rede neural (normalmente, saídas da camada softmax)\n",
    "\n",
    "    # Obter constantes do modelo\n",
    "    WIDTH_REDUCTION, HEIGHT = sess.run([width_reduction_tensor, height_tensor])\n",
    "\n",
    "    decoded, _ = tf.nn.ctc_greedy_decoder(logits, seq_len)  # Decodificação CTC\n",
    "\n",
    "    # Pré-processamento da imagem de entrada\n",
    "    image = imagem\n",
    "    image = resize(image, HEIGHT)  # Redimensiona a imagem\n",
    "    image = normalize(image)  # Normaliza a imagem\n",
    "    image = np.asarray(image).reshape(1, image.shape[0], image.shape[1], 1)  # Formata a imagem para o modelo\n",
    "\n",
    "    seq_lengths = [image.shape[2] / WIDTH_REDUCTION]  # Comprimento da sequência\n",
    "\n",
    "    # Executa a rede neural com a imagem de entrada\n",
    "    prediction = sess.run(decoded, feed_dict={\n",
    "        input: image,\n",
    "        seq_len: seq_lengths,\n",
    "        rnn_keep_prob: 1.0,\n",
    "    })\n",
    "\n",
    "    # Converte a saída da decodificação em texto usando o vocabulário\n",
    "    str_predictions = sparse_tensor_to_strs(prediction)\n",
    "\n",
    "    # Retorna a lista de símbolos reconhecidos\n",
    "    return [vocabulario[w] for w in str_predictions[0]]"
   ]
  },
  {
   "cell_type": "markdown",
   "metadata": {},
   "source": [
    "## Funções Correção"
   ]
  },
  {
   "cell_type": "markdown",
   "metadata": {},
   "source": [
    "### Pré-correção"
   ]
  },
  {
   "cell_type": "code",
   "execution_count": 34,
   "metadata": {},
   "outputs": [],
   "source": [
    "def precorrecao(pauta, primeira):\n",
    "  pauta_corrigida = []\n",
    "  print('Pré-corrigindo os resultados. . .\\n')\n",
    "\n",
    "  #Verifica se tem uma clave no começo da pauta\n",
    "  if 'clef' not in pauta[0]:\n",
    "    pauta.insert(0, 'clef-G2')\n",
    "\n",
    "  #Verifica se tem um tempo no começo da pauta\n",
    "  if 'timeSignature' not in pauta[1] and 'timeSignature' not in pauta[2] and primeira == True:\n",
    "    if 'keySignature' in pauta[1]:\n",
    "      pauta.insert(2, 'timeSignature-3/4')\n",
    "    else:\n",
    "      pauta.insert(1, 'timeSignature-3/4')\n",
    "\n",
    "  #Verifica se existem dois barline's seguidos\n",
    "  i = 0\n",
    "  while i < len(pauta) - 1:\n",
    "      if pauta[i] == 'barline' and pauta[i + 1] == 'barline':\n",
    "          # Se dois itens 'barline' consecutivos forem encontrados, remova um deles\n",
    "          pauta.pop(i + 1)\n",
    "      else:\n",
    "          i += 1\n",
    "\n",
    "  #Separa os compassos\n",
    "  compassos = []\n",
    "  compasso_atual = []\n",
    "\n",
    "  for item in pauta:\n",
    "      compasso_atual.append(item)\n",
    "      if item == 'barline':\n",
    "          compassos.append(compasso_atual)\n",
    "          compasso_atual = []\n",
    "\n",
    "  if compasso_atual:\n",
    "      compassos.append(compasso_atual)\n",
    "\n",
    "  #Verifica cada compasso\n",
    "  for comp in compassos:\n",
    "    # Encontra o índice da primeira ocorrência de uma palavra contendo \"clef\"\n",
    "    index_to_keep = -1\n",
    "\n",
    "    for i, item in enumerate(comp):\n",
    "        if 'clef' in item:\n",
    "            index_to_keep = i\n",
    "            break\n",
    "\n",
    "    # Remove todas as outras ocorrências de palavras contendo \"clef\"\n",
    "    comp = [item for i, item in enumerate(comp) if i == index_to_keep or 'clef' not in item]\n",
    "\n",
    "\n",
    "    # Encontra o índice da primeira ocorrência de uma palavra contendo \"timeSignature\"\n",
    "    index_to_keep = -1\n",
    "\n",
    "    for i, item in enumerate(comp):\n",
    "        if 'timeSignature' in item:\n",
    "            index_to_keep = i\n",
    "            break\n",
    "\n",
    "    # Remove todas as outras ocorrências de palavras contendo \"timeSignature\"\n",
    "    comp = [item for i, item in enumerate(comp) if i == index_to_keep or 'timeSignature' not in item]\n",
    "\n",
    "    # Encontra o índice da primeira ocorrência de uma palavra contendo \"keySignature\"\n",
    "    index_to_keep = -1\n",
    "\n",
    "    for i, item in enumerate(comp):\n",
    "        if 'keySignature' in item:\n",
    "            index_to_keep = i\n",
    "            break\n",
    "\n",
    "    # Remove todas as outras ocorrências de palavras contendo \"keySignature\"\n",
    "    comp = [item for i, item in enumerate(comp) if i == index_to_keep or 'keySignature' not in item]\n",
    "\n",
    "    for c in comp:\n",
    "      pauta_corrigida.append(c)\n",
    "\n",
    "    return pauta_corrigida"
   ]
  },
  {
   "cell_type": "markdown",
   "metadata": {},
   "source": [
    "### Correção do usuário"
   ]
  },
  {
   "cell_type": "code",
   "execution_count": 32,
   "metadata": {},
   "outputs": [],
   "source": [
    "def correcaoUsuario(pauta):\n",
    "    print('Iniciando a correção do usuário. . .\\n')\n",
    "    while True:\n",
    "        print(pauta)\n",
    "\n",
    "        resposta = int(input('\\nA classificação está correta? (1- Sim | 2- Não)'))\n",
    "\n",
    "        if resposta == 1:\n",
    "            return pauta\n",
    "\n",
    "        elif resposta == 2:\n",
    "            i = 1\n",
    "            print('\\nQual a posição do elemento que deseja alterar?')\n",
    "            for elem in pauta:\n",
    "                print(str(i) + '-' + elem, end=' ')\n",
    "                i = i+1\n",
    "                posicao = int(input())\n",
    "\n",
    "            alteracao = int(input('\\nQual alteração deseja realizar? (1- Adicionar | 2- Editar | 3- Deletar)'))\n",
    "            if alteracao == 1:\n",
    "                pauta = adicionar(pauta, posicao-1)\n",
    "            elif alteracao == 2:\n",
    "                pauta = editar(pauta, posicao-1)\n",
    "\n",
    "            elif alteracao == 3:\n",
    "                pauta = deletar(pauta, posicao-1)\n",
    "\n",
    "            else:\n",
    "                print('\\nUtilize 1 para Adicionar, 2 para Editar ou 3 para Deletar.')\n",
    "                correcaoUsuario(pauta)\n",
    "        else:\n",
    "            print('\\nUtilize 1 para Sim ou 2 para Não.')"
   ]
  },
  {
   "cell_type": "markdown",
   "metadata": {},
   "source": [
    "### Deletar"
   ]
  },
  {
   "cell_type": "code",
   "execution_count": 26,
   "metadata": {},
   "outputs": [],
   "source": [
    "def deletar(pauta, posicao):\n",
    "    del pauta[posicao]\n",
    "    return pauta"
   ]
  },
  {
   "cell_type": "markdown",
   "metadata": {},
   "source": [
    "### Adicionar"
   ]
  },
  {
   "cell_type": "code",
   "execution_count": 27,
   "metadata": {},
   "outputs": [],
   "source": [
    "def adicionar(pauta, posicao):\n",
    "    pos = int(input('Onde deseja adicionar o novo elemento? 1- A frente | 2- Atrás'))\n",
    "    if pos == 1:\n",
    "        posicao = posicao + 1\n",
    "    elif posicao == 2:\n",
    "        posicao = posicao - 1\n",
    "\n",
    "    print('Qual elemento deseja adicionar? Utilize o número referente ao elemento.')\n",
    "    display(options)\n",
    "    elemento = int(input())\n",
    "\n",
    "    if elemento == 0:\n",
    "        nota = notes['nota'].dropna()\n",
    "        oitava = notes['oitava'].dropna()\n",
    "        oitava = oitava[:6]\n",
    "        ritmo = notes['ritmo'].dropna()\n",
    "\n",
    "        print('Qual nota deseja adicionar? Utilize o número referente a nota.')\n",
    "        display(nota)\n",
    "        pos_nota = int(input())\n",
    "\n",
    "        print('Qual a oitava da nota? Utilize o número referente a oitava.')\n",
    "        display(oitava)\n",
    "        pos_oitava = int(input())\n",
    "\n",
    "        print('Qual o ritmo da nota? Utilize o número referente ao ritmo.')\n",
    "        display(ritmo)\n",
    "        pos_ritmo = int(input())\n",
    "\n",
    "        novo_elemento = 'note-' + nota.iloc[pos_nota] + str(oitava.iloc[pos_oitava]) + '_' + ritmo.iloc[pos_ritmo]\n",
    "\n",
    "\n",
    "    elif elemento == 1:\n",
    "        print('Qual rest deseja adicionar? Utilize o número referente a rest.')\n",
    "        display(rest)\n",
    "        elem = int(input())\n",
    "        novo_elemento = 'rest-' + rest.iloc[elem]['rest']\n",
    "\n",
    "    elif elemento == 2:\n",
    "        print('Qual timeSignature deseja adicionar? Utilize o número referente a timeSignature.')\n",
    "        display(timeSignature)\n",
    "        elem = int(input())\n",
    "        novo_elemento = 'timeSignature-' + timeSignature.iloc[elem]['timeSignature']\n",
    "\n",
    "    elif elemento == 3:\n",
    "        print('Qual clef deseja adicionar? Utilize o número referente a clef.')\n",
    "        display(clef)\n",
    "        elem = int(input())\n",
    "        novo_elemento = 'clef-' + clef.iloc[elem]['clef']\n",
    "\n",
    "    elif elemento == 4:\n",
    "        novo_elemento = 'tie'\n",
    "\n",
    "    elif elemento == 5:\n",
    "        novo_elemento = 'barline'\n",
    "\n",
    "    elif elemento == 6:\n",
    "        nota = gracenote['nota'].dropna()\n",
    "        oitava = gracenote['oitava'].dropna()\n",
    "        oitava = oitava[:4]\n",
    "        ritmo = gracenote['ritmo'].dropna()\n",
    "\n",
    "        print('Qual nota deseja adicionar? Utilize o número referente a nota.')\n",
    "        display(nota)\n",
    "        pos_nota = int(input())\n",
    "\n",
    "        print('Qual a oitava da nota? Utilize o número referente a oitava.')\n",
    "        display(oitava)\n",
    "        pos_oitava = int(input())\n",
    "\n",
    "        print('Qual o ritmo da nota? Utilize o número referente ao ritmo.')\n",
    "        display(ritmo)\n",
    "        pos_ritmo = int(input())\n",
    "\n",
    "        novo_elemento = 'note-' + nota.iloc[pos_nota] + str(oitava.iloc[pos_oitava]) + '_' + ritmo.iloc[pos_ritmo]\n",
    "\n",
    "    elif elemento == 7:\n",
    "        print('Qual keySignature deseja adicionar? Utilize o número referente a keySignature.')\n",
    "        display(keySignature)\n",
    "        elem = int(input())\n",
    "        novo_elemento = 'keySignature-' + keySignature.iloc[elem]['keySignature']\n",
    "\n",
    "    pauta.insert(posicao, novo_elemento)\n",
    "    return pauta"
   ]
  },
  {
   "cell_type": "markdown",
   "metadata": {},
   "source": [
    "### Editar"
   ]
  },
  {
   "cell_type": "code",
   "execution_count": 28,
   "metadata": {},
   "outputs": [],
   "source": [
    "def editar(pauta, posicao):\n",
    "    print('Qual elemento deseja substituir o ' + pauta[posicao] + '? Utilize o número referente ao elemento.')\n",
    "    display(options)\n",
    "    elemento = int(input())\n",
    "\n",
    "    if elemento == 0:\n",
    "        nota = notes['nota'].dropna()\n",
    "        oitava = notes['oitava'].dropna()\n",
    "        oitava = oitava[:6]\n",
    "        ritmo = notes['ritmo'].dropna()\n",
    "\n",
    "        print('Qual nota deseja adicionar? Utilize o número referente a nota.')\n",
    "        display(nota)\n",
    "        pos_nota = int(input())\n",
    "\n",
    "        print('Qual a oitava da nota? Utilize o número referente a oitava.')\n",
    "        display(oitava)\n",
    "        pos_oitava = int(input())\n",
    "\n",
    "        print('Qual o ritmo da nota? Utilize o número referente ao ritmo.')\n",
    "        display(ritmo)\n",
    "        pos_ritmo = int(input())\n",
    "\n",
    "        novo_elemento = 'note-' + nota.iloc[pos_nota] + str(oitava.iloc[pos_oitava]) + '_' + ritmo.iloc[pos_ritmo]\n",
    "\n",
    "\n",
    "    elif elemento == 1:\n",
    "        print('Qual rest deseja adicionar? Utilize o número referente a rest.')\n",
    "        display(rest)\n",
    "        elem = int(input())\n",
    "        novo_elemento = 'rest-' + rest.iloc[elem]['rest']\n",
    "\n",
    "    elif elemento == 2:\n",
    "        print('Qual timeSignature deseja adicionar? Utilize o número referente a timeSignature.')\n",
    "        display(timeSignature)\n",
    "        elem = int(input())\n",
    "        novo_elemento = 'timeSignature-' + timeSignature.iloc[elem]['timeSignature']\n",
    "\n",
    "    elif elemento == 3:\n",
    "        print('Qual clef deseja adicionar? Utilize o número referente a clef.')\n",
    "        display(clef)\n",
    "        elem = int(input())\n",
    "        novo_elemento = 'clef-' + clef.iloc[elem]['clef']\n",
    "\n",
    "    elif elemento == 4:\n",
    "        novo_elemento = 'tie'\n",
    "\n",
    "    elif elemento == 5:\n",
    "        novo_elemento = 'barline'\n",
    "\n",
    "    elif elemento == 6:\n",
    "        nota = gracenote['nota'].dropna()\n",
    "        oitava = gracenote['oitava'].dropna()\n",
    "        oitava = oitava[:4]\n",
    "        ritmo = gracenote['ritmo'].dropna()\n",
    "\n",
    "        print('Qual nota deseja adicionar? Utilize o número referente a nota.')\n",
    "        display(nota)\n",
    "        pos_nota = int(input())\n",
    "\n",
    "        print('Qual a oitava da nota? Utilize o número referente a oitava.')\n",
    "        display(oitava)\n",
    "        pos_oitava = int(input())\n",
    "\n",
    "        print('Qual o ritmo da nota? Utilize o número referente ao ritmo.')\n",
    "        display(ritmo)\n",
    "        pos_ritmo = int(input())\n",
    "\n",
    "        novo_elemento = 'note-' + nota.iloc[pos_nota] + str(oitava.iloc[pos_oitava]) + '_' + ritmo.iloc[pos_ritmo]\n",
    "\n",
    "    elif elemento == 7:\n",
    "        print('Qual keySignature deseja adicionar? Utilize o número referente a keySignature.')\n",
    "        display(keySignature)\n",
    "        elem = int(input())\n",
    "        novo_elemento = 'keySignature-' + keySignature.iloc[elem]['keySignature']\n",
    "\n",
    "        pauta[posicao] = novo_elemento\n",
    "        \n",
    "    return pauta"
   ]
  },
  {
   "cell_type": "markdown",
   "metadata": {
    "id": "xPBrfGM3NLXb"
   },
   "source": [
    "## Pré-processamento"
   ]
  },
  {
   "cell_type": "markdown",
   "metadata": {
    "id": "Cf7MiouZMrIt"
   },
   "source": [
    "### Imagem alinhada e binarizada"
   ]
  },
  {
   "cell_type": "code",
   "execution_count": 16,
   "metadata": {
    "colab": {
     "base_uri": "https://localhost:8080/"
    },
    "id": "O7G8BdfZ0dsr",
    "outputId": "55cd95fe-a71f-450d-ea4c-57f8497bd309",
    "scrolled": true
   },
   "outputs": [
    {
     "name": "stderr",
     "output_type": "stream",
     "text": [
      "C:\\Users\\mateu\\AppData\\Local\\Temp\\ipykernel_14256\\1301399296.py:2: UserWarning: images\\binarized\\img-binarizada.jpg is a boolean image: setting True to 255 and False to 0. To silence this warning, please convert the image using img_as_ubyte.\n",
      "  io.imsave(nome+'.jpg', imagem)\n"
     ]
    }
   ],
   "source": [
    "imagem = cv2.imread(diretorio_imagem)\n",
    "imagem_cinza = deixar_cinza(imagem)\n",
    "imagem_binarizada = binarizar(imagem_cinza)\n",
    "\n",
    "salvar_imagem(imagem_binarizada, 'images\\\\binarized\\\\'+diretorio_imagem[:-4]+'-binarizada')"
   ]
  },
  {
   "cell_type": "code",
   "execution_count": 17,
   "metadata": {
    "id": "vOpfW6cOCM_5"
   },
   "outputs": [],
   "source": [
    "imagem_alinhada = alinhar_linhas(imagem_binarizada)\n",
    "salvar_imagem(imagem_alinhada, 'images\\\\aligned\\\\'+diretorio_imagem[:-4]+'-alinhada')"
   ]
  },
  {
   "cell_type": "markdown",
   "metadata": {
    "id": "xHThcEr1W3Cw"
   },
   "source": [
    "### Linha de pauta"
   ]
  },
  {
   "cell_type": "code",
   "execution_count": 18,
   "metadata": {
    "colab": {
     "base_uri": "https://localhost:8080/",
     "height": 430
    },
    "id": "HOK9n84yIICp",
    "outputId": "7fcae97e-1c63-449b-ba50-94eebc11b801",
    "scrolled": false
   },
   "outputs": [
    {
     "data": {
      "image/png": "[encoded data removed]",
      "text/plain": [
       "<Figure size 640x480 with 1 Axes>"
      ]
     },
     "metadata": {},
     "output_type": "display_data"
    }
   ],
   "source": [
    "projecao = calcular_projecao(imagem_alinhada)\n",
    "linhadepauta(projecao)"
   ]
  },
  {
   "cell_type": "markdown",
   "metadata": {
    "id": "JA6qOCZbxU9x"
   },
   "source": [
    "## Identificar símbolos\n"
   ]
  },
  {
   "cell_type": "code",
   "execution_count": 19,
   "metadata": {
    "colab": {
     "base_uri": "https://localhost:8080/"
    },
    "id": "mSRLl4wGISNO",
    "outputId": "bccb7f9e-b22d-4b9a-f771-9b9177add8f4",
    "scrolled": true
   },
   "outputs": [],
   "source": [
    "vocabulario = ler_vocabulario(diretorio_vocabulario)"
   ]
  },
  {
   "cell_type": "code",
   "execution_count": 20,
   "metadata": {
    "id": "DORRtkyob1zH"
   },
   "outputs": [],
   "source": [
    "# Use a função 'img_as_ubyte' para converter a imagem para ubytes\n",
    "img_data = skimage.img_as_ubyte(imagem_alinhada)"
   ]
  },
  {
   "cell_type": "code",
   "execution_count": 21,
   "metadata": {},
   "outputs": [],
   "source": [
    "line_thickness, staff_space = get_reference_lenghts(img_data)"
   ]
  },
  {
   "cell_type": "code",
   "execution_count": 22,
   "metadata": {
    "scrolled": false
   },
   "outputs": [
    {
     "name": "stdout",
     "output_type": "stream",
     "text": [
      "WARNING:tensorflow:The saved meta_graph is possibly from an older release:\n",
      "'model_variables' collection should be of type 'byte_list', but instead is of type 'node_list'.\n",
      "INFO:tensorflow:Restoring parameters from model\\semantic_model\n"
     ]
    }
   ],
   "source": [
    "symbols = identificar_simbolos(img_data, vocabulario, diretorio_modelo)"
   ]
  },
  {
   "cell_type": "code",
   "execution_count": 23,
   "metadata": {},
   "outputs": [
    {
     "name": "stdout",
     "output_type": "stream",
     "text": [
      "['clef-G2', 'keySignature-EbM', 'timeSignature-3/4', 'note-Bb5_quarter', 'note-Eb5_eighth', 'note-Bb5_eighth', 'note-Eb6_eighth', 'note-Bb5_eighth', 'barline', 'note-Ab5_eighth', 'note-Ab5_eighth', 'rest-sixteenth', 'note-Ab5_sixteenth', 'note-G5_sixteenth', 'note-Ab5_sixteenth', 'note-Bb5_sixteenth', 'note-Ab5_sixteenth', 'note-G5_sixteenth', 'note-Ab5_sixteenth', 'barline']\n"
     ]
    }
   ],
   "source": [
    "print(symbols)"
   ]
  },
  {
   "cell_type": "markdown",
   "metadata": {},
   "source": [
    "## Corrigir símbolos"
   ]
  },
  {
   "cell_type": "markdown",
   "metadata": {},
   "source": [
    "### Pré-correção"
   ]
  },
  {
   "cell_type": "code",
   "execution_count": 36,
   "metadata": {},
   "outputs": [
    {
     "name": "stdout",
     "output_type": "stream",
     "text": [
      "Pré-corrigindo os resultados. . .\n",
      "\n"
     ]
    }
   ],
   "source": [
    "symbols = precorrecao(symbols, True)"
   ]
  },
  {
   "cell_type": "markdown",
   "metadata": {},
   "source": [
    "### Correção do usuário"
   ]
  },
  {
   "cell_type": "code",
   "execution_count": 33,
   "metadata": {},
   "outputs": [
    {
     "name": "stdout",
     "output_type": "stream",
     "text": [
      "Iniciando a correção do usuário. . .\n",
      "\n",
      "['clef-G2', 'keySignature-EbM', 'timeSignature-3/4', 'note-Bb5_quarter', 'note-Eb5_eighth', 'note-Bb5_eighth', 'note-Eb6_eighth', 'note-Bb5_eighth', 'barline', 'note-Ab5_eighth', 'note-Ab5_eighth', 'rest-sixteenth', 'note-Ab5_sixteenth', 'note-G5_sixteenth', 'note-Ab5_sixteenth', 'note-Bb5_sixteenth', 'note-Ab5_sixteenth', 'note-G5_sixteenth', 'note-Ab5_sixteenth', 'barline']\n"
     ]
    },
    {
     "ename": "KeyboardInterrupt",
     "evalue": "Interrupted by user",
     "output_type": "error",
     "traceback": [
      "\u001b[1;31m---------------------------------------------------------------------------\u001b[0m",
      "\u001b[1;31mKeyboardInterrupt\u001b[0m                         Traceback (most recent call last)",
      "Cell \u001b[1;32mIn[33], line 1\u001b[0m\n\u001b[1;32m----> 1\u001b[0m pauta \u001b[38;5;241m=\u001b[39m \u001b[43mcorrecaoUsuario\u001b[49m\u001b[43m(\u001b[49m\u001b[43msymbols\u001b[49m\u001b[43m)\u001b[49m\n",
      "Cell \u001b[1;32mIn[32], line 6\u001b[0m, in \u001b[0;36mcorrecaoUsuario\u001b[1;34m(pauta)\u001b[0m\n\u001b[0;32m      3\u001b[0m \u001b[38;5;28;01mwhile\u001b[39;00m \u001b[38;5;28;01mTrue\u001b[39;00m:\n\u001b[0;32m      4\u001b[0m     \u001b[38;5;28mprint\u001b[39m(pauta)\n\u001b[1;32m----> 6\u001b[0m     resposta \u001b[38;5;241m=\u001b[39m \u001b[38;5;28mint\u001b[39m(\u001b[38;5;28;43minput\u001b[39;49m\u001b[43m(\u001b[49m\u001b[38;5;124;43m'\u001b[39;49m\u001b[38;5;130;43;01m\\n\u001b[39;49;00m\u001b[38;5;124;43mA classificação está correta? (1- Sim | 2- Não)\u001b[39;49m\u001b[38;5;124;43m'\u001b[39;49m\u001b[43m)\u001b[49m)\n\u001b[0;32m      8\u001b[0m     \u001b[38;5;28;01mif\u001b[39;00m resposta \u001b[38;5;241m==\u001b[39m \u001b[38;5;241m1\u001b[39m:\n\u001b[0;32m      9\u001b[0m         \u001b[38;5;28;01mreturn\u001b[39;00m pauta\n",
      "File \u001b[1;32m~\\anaconda3\\lib\\site-packages\\ipykernel\\kernelbase.py:1175\u001b[0m, in \u001b[0;36mKernel.raw_input\u001b[1;34m(self, prompt)\u001b[0m\n\u001b[0;32m   1171\u001b[0m \u001b[38;5;28;01mif\u001b[39;00m \u001b[38;5;129;01mnot\u001b[39;00m \u001b[38;5;28mself\u001b[39m\u001b[38;5;241m.\u001b[39m_allow_stdin:\n\u001b[0;32m   1172\u001b[0m     \u001b[38;5;28;01mraise\u001b[39;00m StdinNotImplementedError(\n\u001b[0;32m   1173\u001b[0m         \u001b[38;5;124m\"\u001b[39m\u001b[38;5;124mraw_input was called, but this frontend does not support input requests.\u001b[39m\u001b[38;5;124m\"\u001b[39m\n\u001b[0;32m   1174\u001b[0m     )\n\u001b[1;32m-> 1175\u001b[0m \u001b[38;5;28;01mreturn\u001b[39;00m \u001b[38;5;28;43mself\u001b[39;49m\u001b[38;5;241;43m.\u001b[39;49m\u001b[43m_input_request\u001b[49m\u001b[43m(\u001b[49m\n\u001b[0;32m   1176\u001b[0m \u001b[43m    \u001b[49m\u001b[38;5;28;43mstr\u001b[39;49m\u001b[43m(\u001b[49m\u001b[43mprompt\u001b[49m\u001b[43m)\u001b[49m\u001b[43m,\u001b[49m\n\u001b[0;32m   1177\u001b[0m \u001b[43m    \u001b[49m\u001b[38;5;28;43mself\u001b[39;49m\u001b[38;5;241;43m.\u001b[39;49m\u001b[43m_parent_ident\u001b[49m\u001b[43m[\u001b[49m\u001b[38;5;124;43m\"\u001b[39;49m\u001b[38;5;124;43mshell\u001b[39;49m\u001b[38;5;124;43m\"\u001b[39;49m\u001b[43m]\u001b[49m\u001b[43m,\u001b[49m\n\u001b[0;32m   1178\u001b[0m \u001b[43m    \u001b[49m\u001b[38;5;28;43mself\u001b[39;49m\u001b[38;5;241;43m.\u001b[39;49m\u001b[43mget_parent\u001b[49m\u001b[43m(\u001b[49m\u001b[38;5;124;43m\"\u001b[39;49m\u001b[38;5;124;43mshell\u001b[39;49m\u001b[38;5;124;43m\"\u001b[39;49m\u001b[43m)\u001b[49m\u001b[43m,\u001b[49m\n\u001b[0;32m   1179\u001b[0m \u001b[43m    \u001b[49m\u001b[43mpassword\u001b[49m\u001b[38;5;241;43m=\u001b[39;49m\u001b[38;5;28;43;01mFalse\u001b[39;49;00m\u001b[43m,\u001b[49m\n\u001b[0;32m   1180\u001b[0m \u001b[43m\u001b[49m\u001b[43m)\u001b[49m\n",
      "File \u001b[1;32m~\\anaconda3\\lib\\site-packages\\ipykernel\\kernelbase.py:1217\u001b[0m, in \u001b[0;36mKernel._input_request\u001b[1;34m(self, prompt, ident, parent, password)\u001b[0m\n\u001b[0;32m   1214\u001b[0m             \u001b[38;5;28;01mbreak\u001b[39;00m\n\u001b[0;32m   1215\u001b[0m \u001b[38;5;28;01mexcept\u001b[39;00m \u001b[38;5;167;01mKeyboardInterrupt\u001b[39;00m:\n\u001b[0;32m   1216\u001b[0m     \u001b[38;5;66;03m# re-raise KeyboardInterrupt, to truncate traceback\u001b[39;00m\n\u001b[1;32m-> 1217\u001b[0m     \u001b[38;5;28;01mraise\u001b[39;00m \u001b[38;5;167;01mKeyboardInterrupt\u001b[39;00m(\u001b[38;5;124m\"\u001b[39m\u001b[38;5;124mInterrupted by user\u001b[39m\u001b[38;5;124m\"\u001b[39m) \u001b[38;5;28;01mfrom\u001b[39;00m \u001b[38;5;28mNone\u001b[39m\n\u001b[0;32m   1218\u001b[0m \u001b[38;5;28;01mexcept\u001b[39;00m \u001b[38;5;167;01mException\u001b[39;00m:\n\u001b[0;32m   1219\u001b[0m     \u001b[38;5;28mself\u001b[39m\u001b[38;5;241m.\u001b[39mlog\u001b[38;5;241m.\u001b[39mwarning(\u001b[38;5;124m\"\u001b[39m\u001b[38;5;124mInvalid Message:\u001b[39m\u001b[38;5;124m\"\u001b[39m, exc_info\u001b[38;5;241m=\u001b[39m\u001b[38;5;28;01mTrue\u001b[39;00m)\n",
      "\u001b[1;31mKeyboardInterrupt\u001b[0m: Interrupted by user"
     ]
    },
    {
     "name": "stdout",
     "output_type": "stream",
     "text": [
      "\n",
      "A classificação está correta? (1- Sim | 2- Não)1\n"
     ]
    }
   ],
   "source": [
    "pauta = correcaoUsuario(symbols)"
   ]
  },
  {
   "cell_type": "markdown",
   "metadata": {},
   "source": [
    "# Reconhecer se é uma partitura"
   ]
  },
  {
   "cell_type": "markdown",
   "metadata": {},
   "source": [
    "# Separar as pautas"
   ]
  },
  {
   "cell_type": "markdown",
   "metadata": {},
   "source": [
    "# Gera uma partitura"
   ]
  },
  {
   "cell_type": "markdown",
   "metadata": {},
   "source": [
    "### Está correto a anotação? Sim | Não\n",
    "### Qual a posição deseja corrigir?\n",
    "### Deseja corrigir, adicionar ou remover?\n",
    "\n",
    "- note - qual nota? - qual oitava? - qual ritmo?  \n",
    "- not note  \n",
    "    -- armadura - muda nota? (sim|nao) - qual?  \n",
    "    -- clave - (muda qual nota que é) muda nota? (sim|nao) - qual?  \n",
    "    -- tempo - qual?  \n",
    "    -- barline  \n",
    "    -- descanso - qual?  \n",
    "       \n",
    "\n",
    "\n"
   ]
  },
  {
   "cell_type": "markdown",
   "metadata": {},
   "source": [
    "# Gera uma partitura"
   ]
  },
  {
   "cell_type": "markdown",
   "metadata": {},
   "source": [
    "# Gera um MIDI"
   ]
  },
  {
   "cell_type": "code",
   "execution_count": null,
   "metadata": {},
   "outputs": [],
   "source": []
  }
 ],
 "metadata": {
  "colab": {
   "provenance": []
  },
  "kernelspec": {
   "display_name": "Python 3 (ipykernel)",
   "language": "python",
   "name": "python3"
  },
  "language_info": {
   "codemirror_mode": {
    "name": "ipython",
    "version": 3
   },
   "file_extension": ".py",
   "mimetype": "text/x-python",
   "name": "python",
   "nbconvert_exporter": "python",
   "pygments_lexer": "ipython3",
   "version": "3.10.9"
  }
 },
 "nbformat": 4,
 "nbformat_minor": 1
}
