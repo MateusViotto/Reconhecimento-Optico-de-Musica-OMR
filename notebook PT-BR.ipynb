{
 "cells": [
  {
   "cell_type": "markdown",
   "metadata": {
    "id": "Nr19b53i3Vbj"
   },
   "source": [
    "# Compondo com inteligência\n",
    "Mateus Augusto Viotto - PC3008967"
   ]
  },
  {
   "cell_type": "markdown",
   "metadata": {
    "id": "2Bs2QNYL3Q3J"
   },
   "source": [
    "## Bibliotecas"
   ]
  },
  {
   "cell_type": "code",
   "execution_count": 1,
   "metadata": {
    "id": "RgaegRY5wUNk"
   },
   "outputs": [],
   "source": [
    "import numpy as np\n",
    "import pandas as pd\n",
    "import matplotlib.pyplot as plt\n",
    "\n",
    "from skimage import io, transform, util\n",
    "import skimage\n",
    "\n",
    "import tensorflow.compat.v1 as tf\n",
    "import cv2\n",
    "import itertools\n",
    "\n",
    "from music21 import *\n",
    "\n",
    "# Substitua o caminho abaixo pelo caminho real no seu sistema\n",
    "environment.UserSettings()['musescoreDirectPNGPath'] = r'C:\\Program Files\\MuseScore 4\\bin\\MuseScore4.exe'\n",
    "\n",
    "#from google.colab.patches import cv2_imshow"
   ]
  },
  {
   "cell_type": "markdown",
   "metadata": {
    "id": "KFcsKQD_MfN7"
   },
   "source": [
    "## Altere para os diretórios correspondentes"
   ]
  },
  {
   "cell_type": "code",
   "execution_count": 2,
   "metadata": {
    "id": "tNyc7IYaMcHU"
   },
   "outputs": [
    {
     "name": "stderr",
     "output_type": "stream",
     "text": [
      "C:\\Users\\mateu\\AppData\\Local\\Temp\\ipykernel_12420\\1204828071.py:9: FutureWarning: The default value of regex will change from True to False in a future version.\n",
      "  gracenote['oitava'] = gracenote['oitava'].astype(str).str.replace('.0', '')\n",
      "C:\\Users\\mateu\\AppData\\Local\\Temp\\ipykernel_12420\\1204828071.py:16: FutureWarning: The default value of regex will change from True to False in a future version.\n",
      "  notes['oitava'] = notes['oitava'].astype(str).str.replace('.0', '')\n"
     ]
    }
   ],
   "source": [
    "diretorio_vocabulario = 'vocabulary_semantic.txt' #ALTERE PARA O DIRETÓRIO DO VOCABULARIO DISPONÍVEL EM https://github.com/OMR-Research/tf-end-to-end/blob/master/Data/vocabulary_semantic.txt\n",
    "diretorio_modelo = 'model\\semantic_model.meta' #ALTERE PARA O DIRETÓRIO DO MODELO DISPONÍVEL EM https://grfia.dlsi.ua.es/primus/models/PrIMuS/Semantic-Model.zip\n",
    "\n",
    "# Carrega dados do arquivo 'clef.xlsx' para o DataFrame 'clef'\n",
    "clef = pd.read_excel('clef.xlsx')\n",
    "\n",
    "# Carrega dados do arquivo 'gracenote.xlsx' para o DataFrame 'gracenote'\n",
    "gracenote = pd.read_excel('gracenote.xlsx')\n",
    "gracenote['oitava'] = gracenote['oitava'].astype(str).str.replace('.0', '')\n",
    "\n",
    "# Carrega dados do arquivo 'keySignature.xlsx' para o DataFrame 'keySignature'\n",
    "keySignature = pd.read_excel('keySignature.xlsx')\n",
    "\n",
    "# Carrega dados do arquivo 'notes.xlsx' para o DataFrame 'notes'\n",
    "notes = pd.read_excel('notes.xlsx')\n",
    "notes['oitava'] = notes['oitava'].astype(str).str.replace('.0', '')\n",
    "\n",
    "# Carrega dados do arquivo 'options.xlsx' para o DataFrame 'options'\n",
    "options = pd.read_excel('options.xlsx')\n",
    "\n",
    "# Carrega dados do arquivo 'rest.xlsx' para o DataFrame 'rest'\n",
    "rest = pd.read_excel('rest.xlsx')\n",
    "\n",
    "# Carrega dados do arquivo 'timeSignature.xlsx' para o DataFrame 'timeSignature'\n",
    "timeSignature = pd.read_excel('timeSignature.xlsx')"
   ]
  },
  {
   "cell_type": "code",
   "execution_count": 3,
   "metadata": {},
   "outputs": [],
   "source": [
    "duracoes_musicais = {\n",
    "    'double_whole': 4.0,\n",
    "    'double_whole_fermata': 4.0,\n",
    "    'double_whole.': 4.0,\n",
    "    'double_whole._fermata': 4.0,\n",
    "    'eighth': 0.5,\n",
    "    'eighth_fermata': 0.5,\n",
    "    'eighth.': 0.5,\n",
    "    'eighth._fermata': 0.5,\n",
    "    'eighth..': 0.5,\n",
    "    'half': 2.0,\n",
    "    'half_fermata': 2.0,\n",
    "    'half.': 2.0,\n",
    "    'half._fermata': 2.0,\n",
    "    'half..': 2.0,\n",
    "    'hundred_twenty_eighth': 0.0078125,\n",
    "    'quadruple_whole': 16.0,\n",
    "    'quadruple_whole_fermata': 16.0,\n",
    "    'quadruple_whole.': 16.0,\n",
    "    'quarter': 1.0,\n",
    "    'quarter_fermata': 1.0,\n",
    "    'quarter.': 1.0,\n",
    "    'quarter._fermata': 1.0,\n",
    "    'quarter..': 1.0,\n",
    "    'quarter.._fermata': 1.0,\n",
    "    'sixteenth': 0.25,\n",
    "    'sixteenth_fermata': 0.25,\n",
    "    'sixteenth.': 0.25,\n",
    "    'sixteenth._fermata': 0.25,\n",
    "    'sixteenth..': 0.25,\n",
    "    'sixty_fourth': 0.03125,\n",
    "    'sixty_fourth.': 0.03125,\n",
    "    'thirty_second': 0.015625,\n",
    "    'thirty_second.': 0.015625,\n",
    "    'whole': 4.0,\n",
    "    'whole_fermata': 4.0,\n",
    "    'whole.': 4.0,\n",
    "    'whole._fermata': 4.0,\n",
    "}\n",
    "\n",
    "assinaturas_clave = {\n",
    "    'AbM': -4,   # Quatro bemóis: Bb, Eb, Ab, Db\n",
    "    'AM': 0,     # Nenhuma alteração\n",
    "    'BbM': -2,   # Dois bemóis: Bb, Eb\n",
    "    'BM': 2,     # Dois sustenidos: F#, C#\n",
    "    'C#M': 7,    # Sete sustenidos: F#, C#, G#, D#, A#, E#, B#\n",
    "    'CM': 0,     # Nenhuma alteração\n",
    "    'DbM': -5,   # Cinco bemóis: Bb, Eb, Ab, Db, Gb\n",
    "    'DM': 2,     # Dois sustenidos: F#, C#\n",
    "    'EbM': -3,   # Três bemóis: Bb, Eb, Ab\n",
    "    'EM': 4,     # Quatro sustenidos: F#, C#, G#, D#\n",
    "    'F#M': 6,    # Seis sustenidos: F#, C#, G#, D#, A#, E#\n",
    "    'FM': 1,     # Um sustenido: F#\n",
    "    'GbM': -6,   # Seis bemóis: Bb, Eb, Ab, Db, Gb, Cb\n",
    "    'GM': 1      # Um sustenido: F#\n",
    "}"
   ]
  },
  {
   "cell_type": "markdown",
   "metadata": {
    "id": "iVaMLpZfOIhL"
   },
   "source": [
    "## Funções ler e salvar"
   ]
  },
  {
   "cell_type": "markdown",
   "metadata": {
    "id": "awBxLx9G3k34"
   },
   "source": [
    "Salva a imagem em formato *jpg* no diretório atual."
   ]
  },
  {
   "cell_type": "code",
   "execution_count": 4,
   "metadata": {
    "id": "SByYw4ZsGJCF"
   },
   "outputs": [],
   "source": [
    "def salvar_imagem(imagem, nome):\n",
    "  io.imsave(nome+'.jpg', imagem)"
   ]
  },
  {
   "cell_type": "markdown",
   "metadata": {
    "id": "t8HFJYVkYljM"
   },
   "source": [
    "Lê o vocabulário armazenado no arquito *txt* e armazena em um dicionário."
   ]
  },
  {
   "cell_type": "code",
   "execution_count": 5,
   "metadata": {
    "id": "Fiqtxoodx3l-"
   },
   "outputs": [],
   "source": [
    "def ler_vocabulario(diretorio):\n",
    "    # Abra o arquivo para leitura\n",
    "    with open(diretorio, 'r') as arquivo:\n",
    "      # Leia as linhas e armazene em uma lista\n",
    "      linhas = arquivo.readlines()\n",
    "\n",
    "    # Cada elemento da lista representa uma linha do arquivo\n",
    "\n",
    "    dicionario = dict()\n",
    "    i = 0\n",
    "    for palavra in linhas:\n",
    "\n",
    "        dicionario[i] = palavra.replace(\"\\n\", \"\")\n",
    "        i += 1\n",
    "    return dicionario\n"
   ]
  },
  {
   "cell_type": "code",
   "execution_count": 6,
   "metadata": {},
   "outputs": [],
   "source": [
    "def mostrar_imagem(img):\n",
    "    # Exiba a imagem usando matplotlib\n",
    "        img_rgb = cv2.cvtColor(img, cv2.COLOR_BGR2RGB)\n",
    "        plt.imshow(img_rgb)\n",
    "        plt.axis('off')  # Desliga os eixos\n",
    "        plt.show()"
   ]
  },
  {
   "cell_type": "markdown",
   "metadata": {
    "id": "kyk7-aqO3LZp"
   },
   "source": [
    "## Funções Pré-processamento"
   ]
  },
  {
   "cell_type": "markdown",
   "metadata": {
    "id": "0Wko6Qfx3uch"
   },
   "source": [
    "### Converte uma imagem colorida para escala de cinza."
   ]
  },
  {
   "cell_type": "code",
   "execution_count": 7,
   "metadata": {
    "id": "FiBdr7pRErOe"
   },
   "outputs": [],
   "source": [
    "def deixar_cinza(imagem):\n",
    "    #print('Convertendo para escala de cinza. . .')\n",
    "    return cv2.cvtColor(imagem, cv2.COLOR_BGR2GRAY)"
   ]
  },
  {
   "cell_type": "markdown",
   "metadata": {
    "id": "21bTJoJv36LK"
   },
   "source": [
    "### Binariza a imagem utilizando o método *threshold_sauvola*."
   ]
  },
  {
   "cell_type": "code",
   "execution_count": 8,
   "metadata": {
    "id": "GMijztmX0D6e"
   },
   "outputs": [],
   "source": [
    "def binarizar(image):\n",
    "    from skimage.filters import threshold_sauvola\n",
    "    #print('Binarizando imagem. . .')\n",
    "    # tamanho da janela de cálculo local do limiar\n",
    "    window_size = 101\n",
    "\n",
    "    # fator de sensibilidade\n",
    "    k = 0.2\n",
    "\n",
    "    # Calcule o limiar de Sauvola\n",
    "    threshold = threshold_sauvola(image, window_size=window_size, k=k)\n",
    "\n",
    "    # Aplique o limiar à imagem para binarizá-la\n",
    "    binary_image = image > threshold\n",
    "\n",
    "    return binary_image\n"
   ]
  },
  {
   "cell_type": "markdown",
   "metadata": {
    "id": "INuvxKeT4I7b"
   },
   "source": [
    "### Plota um gráfico horizontal da projeção horizontal para visualização da linha de pauta."
   ]
  },
  {
   "cell_type": "code",
   "execution_count": 9,
   "metadata": {
    "id": "sKNxQF2l0chP"
   },
   "outputs": [],
   "source": [
    "def linhadepauta(projection_data):\n",
    "    import matplotlib.pyplot as plt\n",
    "\n",
    "    # Combina os arrays em um único array\n",
    "    combined_data = [item for sublist in projection_data for item in sublist]\n",
    "\n",
    "    # Define o intervalo de exibição no eixo X\n",
    "    x_values = range(1, len(combined_data) + 1)  # De 1 a N\n",
    "\n",
    "    # Define o passo para os rótulos do eixo X (exibe a cada 300 valores)\n",
    "    x_ticks = list(range(1, len(combined_data) + 1, 50))  # Exibe a cada 300 valores\n",
    "\n",
    "    # Cria um gráfico de barras horizontais\n",
    "    plt.barh(x_values, combined_data, color='black')\n",
    "\n",
    "    # Inverte o eixo Y para que os valores mais altos fiquem no topo\n",
    "    plt.gca().invert_yaxis()\n",
    "\n",
    "    # Configura os rótulos do eixo X\n",
    "    plt.yticks(x_ticks, x_ticks)\n",
    "\n",
    "    plt.show()"
   ]
  },
  {
   "cell_type": "markdown",
   "metadata": {
    "id": "Cn_73yBX4cUY"
   },
   "source": [
    "### Calcula a projeção horizontal."
   ]
  },
  {
   "cell_type": "code",
   "execution_count": 10,
   "metadata": {
    "id": "5S4i6tqezdRG"
   },
   "outputs": [],
   "source": [
    "def calcular_projecao(img_data, col_row=1):\n",
    "    #print('Calculando projeção horizontal. . .')\n",
    "    # Cria uma máscara onde os valores 0 na imagem original são mapeados para 1, e outros para 0\n",
    "    mask = np.uint8(np.where(img_data == 0, 1, 0))\n",
    "\n",
    "    # Calcula a projeção somando os valores na máscara ao longo de uma coluna (col_row=1) ou linha (col_row=0)\n",
    "    # REDUCE_SUM realiza a soma\n",
    "    # dtype=cv2.CV_32SC1 define o tipo de dados do resultado como 32 bits com sinal\n",
    "    count = cv2.reduce(mask, col_row, cv2.REDUCE_SUM, dtype=cv2.CV_32SC1)\n",
    "\n",
    "    return count"
   ]
  },
  {
   "cell_type": "markdown",
   "metadata": {
    "id": "ux2GOiMf4hFw"
   },
   "source": [
    "### Rotaciona a imagem."
   ]
  },
  {
   "cell_type": "code",
   "execution_count": 11,
   "metadata": {
    "id": "BzGq7Y54Donp"
   },
   "outputs": [],
   "source": [
    "def girar_imagem(img_data, angle):\n",
    "\n",
    "    # Rotacionar a imagem\n",
    "    new_image = util.img_as_ubyte(transform.rotate(img_data, angle, mode='wrap'))\n",
    "\n",
    "    return new_image"
   ]
  },
  {
   "cell_type": "markdown",
   "metadata": {
    "id": "veiWO21Q4lqa"
   },
   "source": [
    "### Endireita a imagem, rotacionando-a caso esteja inclinada."
   ]
  },
  {
   "cell_type": "code",
   "execution_count": 12,
   "metadata": {
    "id": "Fq1pn1-wHmke"
   },
   "outputs": [],
   "source": [
    "def alinhar_linhas(img_data):\n",
    "    #print('Alinhando a imagem. . .')\n",
    "    best_image = None  # Variável para armazenar a melhor imagem alinhada\n",
    "    maximum = 0  # Variável para armazenar o valor máximo de projeção\n",
    "\n",
    "    # Loop através de diferentes ângulos de rotação\n",
    "    for i in range(-40, 40):\n",
    "        angle = 0.25 * i  # Calcula o ângulo de rotação correspondente\n",
    "\n",
    "        # Gira a imagem original pelo ângulo calculado\n",
    "        new_image = girar_imagem(img_data, angle)\n",
    "\n",
    "        # Binariza a nova imagem (converte para imagem binária)\n",
    "        binary_image = binarizar(new_image)\n",
    "\n",
    "        # Calcula a projeção horizontal da imagem binária\n",
    "        horizontal_projection = calcular_projecao(binary_image)\n",
    "\n",
    "        # Encontra o valor máximo na projeção horizontal\n",
    "        max_projection = max(horizontal_projection)\n",
    "\n",
    "        # Verifica se o valor máximo encontrado é maior que o máximo atual\n",
    "        if max_projection > maximum:\n",
    "            best_image = new_image  # Se for maior, atualiza a melhor imagem\n",
    "            maximum = max_projection  # Atualiza o valor máximo\n",
    "\n",
    "    return best_image  # Retorna a melhor imagem alinhada"
   ]
  },
  {
   "cell_type": "code",
   "execution_count": 13,
   "metadata": {},
   "outputs": [],
   "source": [
    "def get_reference_lenghts(img_data):\n",
    "    # Dicionários para armazenar o número de corridas de pixels pretos e brancos\n",
    "    black_runs = {}\n",
    "    white_runs = {}\n",
    "\n",
    "    # Itera sobre todas as colunas da imagem\n",
    "    for i in range(img_data.shape[1]):\n",
    "        col = img_data[:, i]\n",
    "        \n",
    "        # Agrupa os valores consecutivos na coluna\n",
    "        for k, g in itertools.groupby(col):\n",
    "            length = len(list(g))\n",
    "            \n",
    "            # Atualiza os dicionários com base na cor do pixel\n",
    "            if k == 0:\n",
    "                black_runs[length] = black_runs.get(length, 0) + 1\n",
    "            else:\n",
    "                white_runs[length] = white_runs.get(length, 0) + 1\n",
    "\n",
    "    # Determina a espessura da linha e o espaço entre linhas com base nas corridas\n",
    "    line_thickness = max(black_runs, key=black_runs.get)\n",
    "    staff_space = max(white_runs, key=white_runs.get)\n",
    "\n",
    "    return line_thickness, staff_space"
   ]
  },
  {
   "cell_type": "markdown",
   "metadata": {},
   "source": [
    "### Identificar pautas"
   ]
  },
  {
   "cell_type": "code",
   "execution_count": 14,
   "metadata": {},
   "outputs": [],
   "source": [
    "def identificarpautas(img):\n",
    " \n",
    "    \n",
    "    print(\"Identificando as pautas. . .\")\n",
    "    image = img.copy()\n",
    "\n",
    "    # Obtém as dimensões da imagem\n",
    "    altura, largura = image.shape\n",
    "\n",
    "    # Lista para armazenar as pautas identificadas\n",
    "    pautas = []\n",
    "\n",
    "    # Converte a imagem em escala de cinza\n",
    "    #cinza = cv2.cvtColor(img, cv2.COLOR_BGR2GRAY)\n",
    "\n",
    "    # Aplica o detector de bordas Canny\n",
    "    canny = cv2.Canny(img, 80, 200)\n",
    "\n",
    "    # Detecta linhas na imagem usando a transformada de Hough\n",
    "    linhas = cv2.HoughLinesP(canny, 1, np.pi / 180, 70, minLineLength=30, maxLineGap=5)\n",
    "\n",
    "    # Desenha as linhas detectadas na imagem original\n",
    "    for linha in linhas:\n",
    "        x1, y1, x2, y2 = linha[0]\n",
    "        cv2.line(img, (x1, y1), (x2, y2), (0, 0, 0), 10)\n",
    "  \n",
    "    # Converte a imagem novamente em escala de cinza\n",
    "    #gray = cv2.cvtColor(img, cv2.COLOR_BGR2GRAY)\n",
    "\n",
    "    # Aplica um desfoque gaussiano\n",
    "    blur = cv2.GaussianBlur(img, (7, 7), 0)\n",
    "\n",
    "    # Aplica uma limiarização binária inversa\n",
    "    thresh = cv2.threshold(blur, 0, 255, cv2.THRESH_BINARY_INV + cv2.THRESH_OTSU)[1]\n",
    "\n",
    "    # Define um kernel para a operação de dilatação\n",
    "    kernal = cv2.getStructuringElement(cv2.MORPH_RECT, (3, 13))\n",
    "\n",
    "    # Realiza a dilatação para unir áreas próximas\n",
    "    dilate = cv2.dilate(thresh, kernal, iterations=0)\n",
    "\n",
    "    # Encontra os contornos na imagem dilatada\n",
    "    cnts = cv2.findContours(dilate, cv2.RETR_EXTERNAL, cv2.CHAIN_APPROX_SIMPLE)\n",
    "    cnts = cnts[0] if len(cnts) == 2 else cnts[1]\n",
    " \n",
    "    # Itera sobre os contornos encontrados\n",
    "    for c in cnts:\n",
    "        x, y, w, h = cv2.boundingRect(c)\n",
    "\n",
    "        # Verifica se o contorno representa uma pauta musical\n",
    "        if h > 20 and w > largura // 2 and h < altura - 20:\n",
    "            roi = image[y:y + h, x:x + w]\n",
    "            pautas.append(roi)\n",
    "\n",
    "    # Inverte a ordem das pautas para a exibição correta\n",
    "    pautas.reverse()\n",
    "\n",
    "    # Exibe cada pauta encontrada\n",
    "    for p in pautas:\n",
    "        print('\\n')\n",
    "        mostrar_imagem(p)\n",
    "    return pautas"
   ]
  },
  {
   "cell_type": "markdown",
   "metadata": {
    "id": "esa0XDg_Oor7"
   },
   "source": [
    "## Funções Identificar Símbolos"
   ]
  },
  {
   "cell_type": "markdown",
   "metadata": {},
   "source": [
    "### Normaliza a imagem"
   ]
  },
  {
   "cell_type": "code",
   "execution_count": 15,
   "metadata": {},
   "outputs": [],
   "source": [
    "def normalize(image):\n",
    "    print('Normalizando a imagem. . .')\n",
    "    return (255. - image)/255."
   ]
  },
  {
   "cell_type": "markdown",
   "metadata": {},
   "source": [
    "### Redimenciona a imagem"
   ]
  },
  {
   "cell_type": "code",
   "execution_count": 16,
   "metadata": {},
   "outputs": [],
   "source": [
    "def resize(image, height):\n",
    "    print('Redimencionando a imagem. . .')\n",
    "    # Calcula a largura proporcional à altura fornecida\n",
    "    width = int(float(height * image.shape[1]) / image.shape[0])\n",
    "\n",
    "    # Redimensiona a imagem para a nova largura e altura\n",
    "    sample_img = cv2.resize(image, (width, height))\n",
    "\n",
    "    return sample_img"
   ]
  },
  {
   "cell_type": "code",
   "execution_count": 17,
   "metadata": {},
   "outputs": [],
   "source": [
    "def sparse_tensor_to_strs(sparse_tensor):\n",
    "    # Extrai os componentes do tensor esparsa\n",
    "    indices = sparse_tensor[0][0]\n",
    "    values = sparse_tensor[0][1]\n",
    "    dense_shape = sparse_tensor[0][2]\n",
    "\n",
    "    # Inicializa uma lista de listas para armazenar as strings\n",
    "    strs = [[] for i in range(dense_shape[0])]\n",
    "\n",
    "    # Inicializa uma lista temporária para armazenar cada string\n",
    "    string = []\n",
    "    ptr = 0\n",
    "    b = 0\n",
    "\n",
    "    # Itera sobre os índices para construir as strings\n",
    "    for idx in range(len(indices)):\n",
    "        # Verifica se mudou de linha\n",
    "        if indices[idx][0] != b:\n",
    "            strs[b] = string\n",
    "            string = []\n",
    "            b = indices[idx][0]\n",
    "\n",
    "        # Adiciona o valor atual à string temporária\n",
    "        string.append(values[ptr])\n",
    "\n",
    "        ptr = ptr + 1\n",
    "\n",
    "    # Armazena a última string na linha final\n",
    "    strs[b] = string\n",
    "\n",
    "    return strs\n"
   ]
  },
  {
   "cell_type": "markdown",
   "metadata": {},
   "source": [
    "### Identifica os símbolos"
   ]
  },
  {
   "cell_type": "code",
   "execution_count": 18,
   "metadata": {},
   "outputs": [],
   "source": [
    "def identificar_simbolos(imagem, vocabulario, diretorio):\n",
    "    print('Identificando os símbolos')\n",
    "    # Desabilita a execução ansiosa\n",
    "    tf.compat.v1.disable_eager_execution()\n",
    "    # Cria um novo grafo padrão do TensorFlow\n",
    "    tf.reset_default_graph()\n",
    "    sess = tf.InteractiveSession()\n",
    "    # Cria um objeto Saver para importar o modelo\n",
    "    saver = tf.train.import_meta_graph(diretorio)\n",
    "\n",
    "    # Restaura os parâmetros do modelo a partir do arquivo\n",
    "    saver.restore(sess, diretorio[:-5])  # Remove a extensão \".meta\" do diretório\n",
    "    graph = tf.get_default_graph()\n",
    "    \n",
    "    # Obter tensores necessários do grafo\n",
    "    input = graph.get_tensor_by_name(\"model_input:0\")  # Dados de entrada\n",
    "    seq_len = graph.get_tensor_by_name(\"seq_lengths:0\")  # Comprimento da sequência\n",
    "    rnn_keep_prob = graph.get_tensor_by_name(\"keep_prob:0\")  # Probabilidade de manter unidades\n",
    "    height_tensor = graph.get_tensor_by_name(\"input_height:0\")  # Altura da entrada\n",
    "    width_reduction_tensor = graph.get_tensor_by_name(\"width_reduction:0\")  # Redução de largura\n",
    "    logits = tf.get_collection(\"logits\")[0]  # Saídas da rede neural (normalmente, saídas da camada softmax)\n",
    "\n",
    "    # Obter constantes do modelo\n",
    "    WIDTH_REDUCTION, HEIGHT = sess.run([width_reduction_tensor, height_tensor])\n",
    "\n",
    "    decoded, _ = tf.nn.ctc_greedy_decoder(logits, seq_len)  # Decodificação CTC\n",
    "\n",
    "    # Pré-processamento da imagem de entrada\n",
    "    image = imagem\n",
    "    image = resize(image, HEIGHT)  # Redimensiona a imagem\n",
    "    image = normalize(image)  # Normaliza a imagem\n",
    "    image = np.asarray(image).reshape(1, image.shape[0], image.shape[1], 1)  # Formata a imagem para o modelo\n",
    "\n",
    "    seq_lengths = [image.shape[2] / WIDTH_REDUCTION]  # Comprimento da sequência\n",
    "\n",
    "    # Executa a rede neural com a imagem de entrada\n",
    "    prediction = sess.run(decoded, feed_dict={\n",
    "        input: image,\n",
    "        seq_len: seq_lengths,\n",
    "        rnn_keep_prob: 1.0,\n",
    "    })\n",
    "\n",
    "    # Converte a saída da decodificação em texto usando o vocabulário\n",
    "    str_predictions = sparse_tensor_to_strs(prediction)\n",
    "\n",
    "    # Retorna a lista de símbolos reconhecidos\n",
    "    return [vocabulario[w] for w in str_predictions[0]]"
   ]
  },
  {
   "cell_type": "markdown",
   "metadata": {},
   "source": [
    "## Funções Correção"
   ]
  },
  {
   "cell_type": "markdown",
   "metadata": {},
   "source": [
    "### Pré-correção"
   ]
  },
  {
   "cell_type": "code",
   "execution_count": 19,
   "metadata": {},
   "outputs": [],
   "source": [
    "def precorrecao(pauta, primeira):\n",
    "    pauta_corrigida = []\n",
    "    print('Pré-corrigindo os resultados. . .\\n')\n",
    "\n",
    "    #Verifica se tem uma clave no começo da pauta\n",
    "    if 'clef' not in pauta[0]:\n",
    "        pauta.insert(0, 'clef-G2')\n",
    "\n",
    "    #Verifica se tem um tempo no começo da pauta\n",
    "    if 'timeSignature' not in pauta[1] and 'timeSignature' not in pauta[2] and primeira == True:\n",
    "        if 'keySignature' in pauta[1]:\n",
    "            pauta.insert(2, 'timeSignature-3/4')\n",
    "        else:\n",
    "            pauta.insert(1, 'timeSignature-3/4')\n",
    "\n",
    "    #Verifica se existem dois barline's seguidos\n",
    "    i = 0\n",
    "    while i < len(pauta) - 1:\n",
    "        if pauta[i] == 'barline' and pauta[i + 1] == 'barline':\n",
    "            # Se dois itens 'barline' consecutivos forem encontrados, remova um deles\n",
    "            pauta.pop(i + 1)\n",
    "        else:\n",
    "            i += 1\n",
    "\n",
    "    #Separa os compassos\n",
    "    compassos = []\n",
    "    compasso_atual = []\n",
    "\n",
    "    for item in pauta:\n",
    "        compasso_atual.append(item)\n",
    "        if item == 'barline':\n",
    "            compassos.append(compasso_atual)\n",
    "            compasso_atual = []\n",
    "\n",
    "    if compasso_atual:\n",
    "        compassos.append(compasso_atual)\n",
    "\n",
    "    #Verifica cada compasso\n",
    "    for comp in compassos:\n",
    "        # Encontra o índice da primeira ocorrência de uma palavra contendo \"clef\"\n",
    "        index_to_keep = -1\n",
    "\n",
    "        for i, item in enumerate(comp):\n",
    "            if 'clef' in item:\n",
    "                index_to_keep = i\n",
    "                break\n",
    "\n",
    "        # Remove todas as outras ocorrências de palavras contendo \"clef\"\n",
    "        comp = [item for i, item in enumerate(comp) if i == index_to_keep or 'clef' not in item]\n",
    "\n",
    "\n",
    "        # Encontra o índice da primeira ocorrência de uma palavra contendo \"timeSignature\"\n",
    "        index_to_keep = -1\n",
    "\n",
    "        for i, item in enumerate(comp):\n",
    "            if 'timeSignature' in item:\n",
    "                index_to_keep = i\n",
    "                break\n",
    "\n",
    "        # Remove todas as outras ocorrências de palavras contendo \"timeSignature\"\n",
    "        comp = [item for i, item in enumerate(comp) if i == index_to_keep or 'timeSignature' not in item]\n",
    "\n",
    "        # Encontra o índice da primeira ocorrência de uma palavra contendo \"keySignature\"\n",
    "        index_to_keep = -1\n",
    "\n",
    "        for i, item in enumerate(comp):\n",
    "            if 'keySignature' in item:\n",
    "                index_to_keep = i\n",
    "                break\n",
    "\n",
    "        # Remove todas as outras ocorrências de palavras contendo \"keySignature\"\n",
    "        comp = [item for i, item in enumerate(comp) if i == index_to_keep or 'keySignature' not in item]\n",
    "\n",
    "        for c in comp:\n",
    "            pauta_corrigida.append(c)\n",
    "\n",
    "    return pauta_corrigida"
   ]
  },
  {
   "cell_type": "markdown",
   "metadata": {},
   "source": [
    "### Correção do usuário"
   ]
  },
  {
   "cell_type": "code",
   "execution_count": null,
   "metadata": {},
   "outputs": [],
   "source": [
    "def correcaoUsuario(pauta):\n",
    "    print('Iniciando a correção do usuário. . .\\n')\n",
    "    \n",
    "    while True:\n",
    "        print(pauta)\n",
    "\n",
    "        # Pergunta ao usuário se a classificação está correta\n",
    "        resposta = int(input('\\nA classificação está correta? (1- Sim | 2- Não)'))\n",
    "\n",
    "        if resposta == 1:\n",
    "            return pauta\n",
    "\n",
    "        elif resposta == 2:\n",
    "            i = 1\n",
    "            print('\\nQual a posição do elemento que deseja alterar?')\n",
    "\n",
    "            # Mostra os elementos da pauta e solicita a posição do elemento a ser alterado\n",
    "            for elem in pauta:\n",
    "                print('\\n'+str(i) + '-' + elem, end='  ')\n",
    "                i = i + 1\n",
    "            posicao = int(input())\n",
    "\n",
    "            # Pergunta ao usuário qual tipo de alteração deseja realizar\n",
    "            alteracao = int(input('\\nQual alteração deseja realizar? (1- Adicionar | 2- Editar | 3- Deletar)'))\n",
    "\n",
    "            # Executa a ação correspondente com base na escolha do usuário\n",
    "            if alteracao == 1:\n",
    "                pauta = adicionar(pauta, posicao - 1)\n",
    "            elif alteracao == 2:\n",
    "                pauta = editar(pauta, posicao - 1)\n",
    "            elif alteracao == 3:\n",
    "                pauta = deletar(pauta, posicao - 1)\n",
    "            else:\n",
    "                # Mensagem de erro se a opção escolhida não for válida\n",
    "                print('\\nUtilize 1 para Adicionar, 2 para Editar ou 3 para Deletar.')\n",
    "                correcaoUsuario(pauta)\n",
    "\n",
    "        else:\n",
    "            # Mensagem de erro se a opção escolhida não for válida\n",
    "            print('\\nUtilize 1 para Sim ou 2 para Não.')\n"
   ]
  },
  {
   "cell_type": "markdown",
   "metadata": {},
   "source": [
    "### Deletar"
   ]
  },
  {
   "cell_type": "code",
   "execution_count": 21,
   "metadata": {},
   "outputs": [],
   "source": [
    "def deletar(pauta, posicao):\n",
    "    del pauta[posicao] #Deleta o elemento da pauta\n",
    "    return pauta"
   ]
  },
  {
   "cell_type": "markdown",
   "metadata": {},
   "source": [
    "### Adicionar"
   ]
  },
  {
   "cell_type": "code",
   "execution_count": 22,
   "metadata": {},
   "outputs": [],
   "source": [
    "def adicionar(pauta, posicao):\n",
    "    # Solicita a posição de adição do novo elemento\n",
    "    pos = int(input('\\nOnde deseja adicionar o novo elemento? 1- A frente | 2- Atrás'))\n",
    "    if pos == 1:\n",
    "        posicao = posicao + 1\n",
    "    elif pos == 2: \n",
    "        posicao = posicao - 1\n",
    "\n",
    "    # Solicita o tipo de elemento a ser adicionado\n",
    "    print('\\nQual elemento deseja adicionar? Utilize o número referente ao elemento.')\n",
    "    display(options)\n",
    "    elemento = int(input())\n",
    "\n",
    "    if elemento == 0:\n",
    "        # Adiciona uma nota musical à pauta\n",
    "        nota = notes['nota'].dropna()\n",
    "        oitava = notes['oitava'].dropna()\n",
    "        oitava = oitava[:6]\n",
    "        ritmo = notes['ritmo'].dropna()\n",
    "\n",
    "        print('\\nQual nota deseja adicionar? Utilize o número referente a nota.')\n",
    "        display(nota)\n",
    "        pos_nota = int(input())\n",
    "\n",
    "        print('\\nQual a oitava da nota? Utilize o número referente a oitava.')\n",
    "        display(oitava)\n",
    "        pos_oitava = int(input())\n",
    "\n",
    "        print('\\nQual o ritmo da nota? Utilize o número referente ao ritmo.')\n",
    "        display(ritmo)\n",
    "        pos_ritmo = int(input())\n",
    "\n",
    "        novo_elemento = 'note-' + nota.iloc[pos_nota] + str(oitava.iloc[pos_oitava]) + '_' + ritmo.iloc[pos_ritmo]\n",
    "\n",
    "    elif elemento == 1:\n",
    "        # Adiciona um descanso à pauta\n",
    "        print('\\nQual rest deseja adicionar? Utilize o número referente a rest.')\n",
    "        display(rest)\n",
    "        elem = int(input())\n",
    "        novo_elemento = 'rest-' + rest.iloc[elem]['rest']\n",
    "\n",
    "\n",
    "    pauta.insert(posicao, novo_elemento)\n",
    "    return pauta\n"
   ]
  },
  {
   "cell_type": "markdown",
   "metadata": {},
   "source": [
    "### Editar"
   ]
  },
  {
   "cell_type": "code",
   "execution_count": 23,
   "metadata": {},
   "outputs": [],
   "source": [
    "def editar(pauta, posicao):\n",
    "    # Solicita o tipo de elemento a ser usado para a substituição\n",
    "    print('\\nQual elemento deseja substituir o ' + pauta[posicao] + '? Utilize o número referente ao elemento.')\n",
    "    display(options)\n",
    "    elemento = int(input())\n",
    "\n",
    "    if elemento == 0:\n",
    "        # Substitui o elemento atual por uma nova nota musical\n",
    "        nota = notes['nota'].dropna()\n",
    "        oitava = notes['oitava'].dropna()\n",
    "        oitava = oitava[:6]\n",
    "        ritmo = notes['ritmo'].dropna()\n",
    "\n",
    "        print('\\nQual nota deseja adicionar? Utilize o número referente a nota.')\n",
    "        display(nota)\n",
    "        pos_nota = int(input())\n",
    "\n",
    "        print('\\nQual a oitava da nota? Utilize o número referente a oitava.')\n",
    "        display(oitava)\n",
    "        pos_oitava = int(input())\n",
    "\n",
    "        print('\\nQual o ritmo da nota? Utilize o número referente ao ritmo.')\n",
    "        display(ritmo)\n",
    "        pos_ritmo = int(input())\n",
    "\n",
    "        novo_elemento = 'note-' + nota.iloc[pos_nota] + str(oitava.iloc[pos_oitava]) + '_' + ritmo.iloc[pos_ritmo]\n",
    "\n",
    "    elif elemento == 1:\n",
    "        # Substitui o elemento atual por um novo descanso\n",
    "        print('\\nQual rest deseja adicionar? Utilize o número referente a rest.')\n",
    "        display(rest)\n",
    "        elem = int(input())\n",
    "        novo_elemento = 'rest-' + rest.iloc[elem]['rest']\n",
    "\n",
    "    # ... (continua para outros tipos de elementos)\n",
    "\n",
    "    elif elemento == 7:\n",
    "        # Substitui o elemento atual por uma nova keySignature\n",
    "        print('\\nQual keySignature deseja adicionar? Utilize o número referente a keySignature.')\n",
    "        display(keySignature)\n",
    "        elem = int(input())\n",
    "        novo_elemento = 'keySignature-' + keySignature.iloc[elem]['keySignature']\n",
    "\n",
    "    # Atualiza a pauta na posição especificada\n",
    "    pauta[posicao] = novo_elemento\n",
    "        \n",
    "    return pauta\n"
   ]
  },
  {
   "cell_type": "markdown",
   "metadata": {},
   "source": [
    "## Funções gerar partitura e MIDI"
   ]
  },
  {
   "cell_type": "code",
   "execution_count": 75,
   "metadata": {},
   "outputs": [],
   "source": [
    "from music21 import stream, key, meter, note\n",
    "\n",
    "def criar_partitura(elements, assinaturas_clave, duracoes_musicais, titulo='Minha Partitura'):\n",
    "    score = stream.Score()\n",
    "    partitura = stream.Part()\n",
    "    #alto = clef.AltoClef()\n",
    "    #partitura = stream.Measure([alto])\n",
    "    current_key = None  # Manter o controle da tonalidade atual\n",
    "    # Adicionar metadados à partitura (incluindo o título)\n",
    "    metadados = metadata.Metadata()\n",
    "    metadados.title = titulo\n",
    "    score.metadata = metadados\n",
    "    \n",
    "    for element in elements:\n",
    "    \n",
    "        if element.startswith('keySignature'):\n",
    "            key_signature = element.split('-')[1]\n",
    "            # Adicione uma assinatura de clave com base no dicionário de assinaturas_clave\n",
    "            assinatura_clave = assinaturas_clave.get(key_signature, None)\n",
    "            if assinatura_clave is not None:\n",
    "                # Converta a assinatura de clave para alterações antes de criar o objeto Key\n",
    "                current_key = key.KeySignature(assinatura_clave)\n",
    "                partitura.append(current_key)\n",
    "\n",
    "        elif element.startswith('timeSignature'):\n",
    "            time_signature = element.split('-')[1]\n",
    "            if time_signature != 'C/':\n",
    "                partitura.append(meter.TimeSignature(time_signature))\n",
    "\n",
    "        elif element.startswith('rest'):\n",
    "            _,duration = element.split('-')\n",
    "            valor_quarterLength = duracoes_musicais.get(duration, None)\n",
    "            if valor_quarterLength is not None:\n",
    "                n = note.Rest(quarterLength=valor_quarterLength)\n",
    "                partitura.append(n)\n",
    "            \n",
    "        elif element.startswith('note'):\n",
    "            _, pitch_duration = element.split('-')\n",
    "            separacao = pitch_duration.split('_')\n",
    "            pitch = separacao[0]\n",
    "            duration = separacao[1]\n",
    "            # Usa a tonalidade atual para criar a nota\n",
    "            valor_quarterLength = duracoes_musicais.get(duration, None)\n",
    "            if valor_quarterLength is not None:\n",
    "                n = note.Note(pitch, quarterLength=valor_quarterLength)\n",
    "                partitura.append(n)\n",
    "\n",
    "    # Adiciona a parte à partitura\n",
    "    score.append(partitura)\n",
    "\n",
    "    return score\n"
   ]
  },
  {
   "cell_type": "markdown",
   "metadata": {
    "id": "xPBrfGM3NLXb"
   },
   "source": [
    "## Reconhecimento dos símbolos e geração do MIDI"
   ]
  },
  {
   "cell_type": "code",
   "execution_count": 81,
   "metadata": {
    "colab": {
     "base_uri": "https://localhost:8080/"
    },
    "id": "O7G8BdfZ0dsr",
    "outputId": "55cd95fe-a71f-450d-ea4c-57f8497bd309",
    "scrolled": false
   },
   "outputs": [
    {
     "name": "stdout",
     "output_type": "stream",
     "text": [
      "Identificando as pautas. . .\n",
      "\n",
      "\n"
     ]
    },
    {
     "data": {
      "image/png": "[encoded data removed]",
      "text/plain": [
       "<Figure size 640x480 with 1 Axes>"
      ]
     },
     "metadata": {
      "image/png": {
       "height": 54,
       "width": 515
      }
     },
     "output_type": "display_data"
    },
    {
     "name": "stdout",
     "output_type": "stream",
     "text": [
      "\n",
      "=================== Analisando pauta 1 ===================\n",
      "\n",
      "Alinhando a imagem. . .\n",
      "Identificando os símbolos\n"
     ]
    },
    {
     "name": "stderr",
     "output_type": "stream",
     "text": [
      "C:\\Users\\mateu\\anaconda3\\lib\\site-packages\\tensorflow\\python\\client\\session.py:1793: UserWarning: An interactive session is already active. This can cause out-of-memory errors in some cases. You must explicitly call `InteractiveSession.close()` to release resources held by the other session(s).\n",
      "  warnings.warn('An interactive session is already active. This can '\n"
     ]
    },
    {
     "name": "stdout",
     "output_type": "stream",
     "text": [
      "WARNING:tensorflow:The saved meta_graph is possibly from an older release:\n",
      "'model_variables' collection should be of type 'byte_list', but instead is of type 'node_list'.\n",
      "INFO:tensorflow:Restoring parameters from model\\semantic_model\n",
      "Redimencionando a imagem. . .\n",
      "Normalizando a imagem. . .\n",
      "Pré-corrigindo os resultados. . .\n",
      "\n",
      "Iniciando a correção do usuário. . .\n",
      "\n",
      "['clef-F4', 'keySignature-EbM', 'timeSignature-4/2', 'note-Eb4_eighth', 'tie', 'note-G4_quarter', 'note-F4_quarter', 'tie', 'note-Ab4_quarter', 'note-G4_eighth', 'tie', 'note-Bb4_quarter', 'note-Ab4_quarter', 'note-C5_eighth', 'barline', 'note-Bb4_eighth', 'note-G4_quarter', 'note-Ab4_eighth', 'tie', 'note-F4_quarter', 'note-Eb4_eighth', 'tie', 'note-G4_quarter', 'note-Eb4_quarter', 'barline']\n",
      "\n",
      "A classificação está correta? (1- Sim | 2- Não)2\n",
      "\n",
      "Qual a posição do elemento que deseja alterar?\n",
      "1-clef-F4 2-keySignature-EbM 3-timeSignature-4/2 4-note-Eb4_eighth 5-tie 6-note-G4_quarter 7-note-F4_quarter 8-tie 9-note-Ab4_quarter 10-note-G4_eighth 11-tie 12-note-Bb4_quarter 13-note-Ab4_quarter 14-note-C5_eighth 15-barline 16-note-Bb4_eighth 17-note-G4_quarter 18-note-Ab4_eighth 19-tie 20-note-F4_quarter 21-note-Eb4_eighth 22-tie 23-note-G4_quarter 24-note-Eb4_quarter 25-barline 3\n",
      "\n",
      "Qual alteração deseja realizar? (1- Adicionar | 2- Editar | 3- Deletar)3\n",
      "['clef-F4', 'keySignature-EbM', 'note-Eb4_eighth', 'tie', 'note-G4_quarter', 'note-F4_quarter', 'tie', 'note-Ab4_quarter', 'note-G4_eighth', 'tie', 'note-Bb4_quarter', 'note-Ab4_quarter', 'note-C5_eighth', 'barline', 'note-Bb4_eighth', 'note-G4_quarter', 'note-Ab4_eighth', 'tie', 'note-F4_quarter', 'note-Eb4_eighth', 'tie', 'note-G4_quarter', 'note-Eb4_quarter', 'barline']\n",
      "\n",
      "A classificação está correta? (1- Sim | 2- Não)1\n",
      "Qual o nome da partitura? 2\n"
     ]
    },
    {
     "data": {
      "image/png": "[encoded data removed]",
      "text/plain": [
       "<IPython.core.display.Image object>"
      ]
     },
     "metadata": {
      "image/png": {
       "height": 1169,
       "width": 827
      }
     },
     "output_type": "display_data"
    },
    {
     "data": {
      "text/plain": [
       "'2.mid'"
      ]
     },
     "execution_count": 81,
     "metadata": {},
     "output_type": "execute_result"
    }
   ],
   "source": [
    "diretorio_imagem = 'part2.png'\n",
    "\n",
    "imagem = cv2.imread(diretorio_imagem)\n",
    "imagem_cinza = deixar_cinza(imagem)\n",
    "pautas = identificarpautas(imagem_cinza)\n",
    "vocabulario = ler_vocabulario(diretorio_vocabulario)\n",
    "pautafinal = []\n",
    "i = 1\n",
    "primeira = True\n",
    "\n",
    "for pauta in pautas:\n",
    "    print('\\n=================== Analisando pauta '+str(i) +' ===================')\n",
    "    i = i + 1\n",
    "    imagem_binarizada = binarizar(pauta)\n",
    "    \n",
    "    #salvar_imagem(imagem_binarizada, 'images\\\\binarized\\\\'+diretorio_imagem[:-4]+'-binarizada')\n",
    "    print('\\nAlinhando a imagem. . .')\n",
    "    imagem_alinhada = alinhar_linhas(imagem_binarizada)\n",
    "    #salvar_imagem(imagem_alinhada, 'images\\\\aligned\\\\'+diretorio_imagem[:-4]+'-alinhada')\n",
    "\n",
    "    #projecao = calcular_projecao(imagem_alinhada)\n",
    "    #linhadepauta(projecao)\n",
    "    \n",
    "    # Use a função 'img_as_ubyte' para converter a imagem para ubytes\n",
    "    img_data = skimage.img_as_ubyte(imagem_alinhada)\n",
    "    \n",
    "    line_thickness, staff_space = get_reference_lenghts(img_data)\n",
    "    symbols = identificar_simbolos(img_data, vocabulario, diretorio_modelo)\n",
    "    #print('\\n', symbols)\n",
    "    \n",
    "    pautaprecorrigida = precorrecao(symbols, primeira)\n",
    "    primeira = False\n",
    "    pautacorrigida = correcaoUsuario(pautaprecorrigida)\n",
    "    \n",
    "    for pau in pautacorrigida:\n",
    "        pautafinal.append(pau)\n",
    "    \n",
    "#print('\\nGerando classificação final. . .\\n\\n'+pautafinal)\n",
    "titulo = input('Qual o nome da partitura? ')\n",
    "\n",
    "# Cria a partitura\n",
    "score = criar_partitura(pautafinal, assinaturas_clave, duracoes_musicais, titulo)\n",
    "\n",
    "# Mostra a partitura\n",
    "score.show()\n",
    "\n",
    "score.write('midi', fp= titulo+'.mid')\n"
   ]
  },
  {
   "cell_type": "code",
   "execution_count": null,
   "metadata": {},
   "outputs": [],
   "source": []
  }
 ],
 "metadata": {
  "colab": {
   "provenance": []
  },
  "kernelspec": {
   "display_name": "Python 3 (ipykernel)",
   "language": "python",
   "name": "python3"
  },
  "language_info": {
   "codemirror_mode": {
    "name": "ipython",
    "version": 3
   },
   "file_extension": ".py",
   "mimetype": "text/x-python",
   "name": "python",
   "nbconvert_exporter": "python",
   "pygments_lexer": "ipython3",
   "version": "3.10.9"
  }
 },
 "nbformat": 4,
 "nbformat_minor": 1
}
