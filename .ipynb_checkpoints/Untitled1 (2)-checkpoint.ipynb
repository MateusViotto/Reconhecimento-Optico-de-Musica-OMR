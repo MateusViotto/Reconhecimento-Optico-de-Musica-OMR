{
 "cells": [
  {
   "cell_type": "markdown",
   "metadata": {
    "id": "Nr19b53i3Vbj"
   },
   "source": [
    "# Compondo com inteligência\n",
    "Mateus Augusto Viotto - PC3008967"
   ]
  },
  {
   "cell_type": "markdown",
   "metadata": {
    "id": "2Bs2QNYL3Q3J"
   },
   "source": [
    "## Bibliotecas"
   ]
  },
  {
   "cell_type": "code",
   "execution_count": 1,
   "metadata": {
    "id": "RgaegRY5wUNk"
   },
   "outputs": [],
   "source": [
    "import numpy as np\n",
    "from skimage import io, transform, util\n",
    "import skimage\n",
    "import cv2\n",
    "import tensorflow.compat.v1 as tf\n",
    "import itertools\n",
    "#from google.colab.patches import cv2_imshow"
   ]
  },
  {
   "cell_type": "markdown",
   "metadata": {
    "id": "KFcsKQD_MfN7"
   },
   "source": [
    "### Altere para os diretórios correspondentes."
   ]
  },
  {
   "cell_type": "code",
   "execution_count": 2,
   "metadata": {
    "id": "tNyc7IYaMcHU"
   },
   "outputs": [],
   "source": [
    "diretorio_vocabulario = 'vocabulary_semantic.txt' #ALTERE PARA O DIRETÓRIO DO VOCABULARIO DISPONÍVEL EM https://github.com/OMR-Research/tf-end-to-end/blob/master/Data/vocabulary_semantic.txt\n",
    "diretorio_modelo = 'model\\semantic_model.meta' #ALTERE PARA O DIRETÓRIO DO MODELO DISPONÍVEL EM https://grfia.dlsi.ua.es/primus/models/PrIMuS/Semantic-Model.zip"
   ]
  },
  {
   "cell_type": "markdown",
   "metadata": {
    "id": "iVaMLpZfOIhL"
   },
   "source": [
    "## Funções ler e salvar"
   ]
  },
  {
   "cell_type": "markdown",
   "metadata": {
    "id": "awBxLx9G3k34"
   },
   "source": [
    "Salva a imagem em formato *jpg* no diretório atual."
   ]
  },
  {
   "cell_type": "code",
   "execution_count": 3,
   "metadata": {
    "id": "SByYw4ZsGJCF"
   },
   "outputs": [],
   "source": [
    "def salvar_imagem(imagem, nome):\n",
    "  io.imsave(nome+'.jpg', imagem)"
   ]
  },
  {
   "cell_type": "markdown",
   "metadata": {
    "id": "t8HFJYVkYljM"
   },
   "source": [
    "Lê o vocabulário armazenado no arquito *txt* e armazena em um dicionário."
   ]
  },
  {
   "cell_type": "code",
   "execution_count": 4,
   "metadata": {
    "id": "Fiqtxoodx3l-"
   },
   "outputs": [],
   "source": [
    "def ler_vocabulario(diretorio):\n",
    "  # Abra o arquivo para leitura\n",
    "  with open(diretorio, 'r') as arquivo:\n",
    "      # Leia as linhas e armazene em uma lista\n",
    "      linhas = arquivo.readlines()\n",
    "\n",
    "  # Cada elemento da lista representa uma linha do arquivo\n",
    "\n",
    "  dicionario = dict()\n",
    "  i = 0\n",
    "  for palavra in linhas:\n",
    "\n",
    "      dicionario[i] = palavra.replace(\"\\n\", \"\")\n",
    "      i += 1\n",
    "  return dicionario\n"
   ]
  },
  {
   "cell_type": "markdown",
   "metadata": {
    "id": "kyk7-aqO3LZp"
   },
   "source": [
    "## Funções Pré-processamento"
   ]
  },
  {
   "cell_type": "markdown",
   "metadata": {
    "id": "0Wko6Qfx3uch"
   },
   "source": [
    "Converte uma imagem colorida para escala de cinza."
   ]
  },
  {
   "cell_type": "code",
   "execution_count": 5,
   "metadata": {
    "id": "FiBdr7pRErOe"
   },
   "outputs": [],
   "source": [
    "def deixar_cinza(imagem):\n",
    "  return cv2.cvtColor(imagem, cv2.COLOR_BGR2GRAY)"
   ]
  },
  {
   "cell_type": "markdown",
   "metadata": {
    "id": "21bTJoJv36LK"
   },
   "source": [
    "Binariza a imagem utilizando o método *threshold_sauvola*."
   ]
  },
  {
   "cell_type": "code",
   "execution_count": 6,
   "metadata": {
    "id": "GMijztmX0D6e"
   },
   "outputs": [],
   "source": [
    "def binarizar(image):\n",
    "  from skimage.filters import threshold_sauvola\n",
    "\n",
    "  # tamanho da janela de cálculo local do limiar\n",
    "  window_size = 101\n",
    "\n",
    "  # fator de sensibilidade\n",
    "  k = 0.2\n",
    "\n",
    "  # Calcule o limiar de Sauvola\n",
    "  threshold = threshold_sauvola(image, window_size=window_size, k=k)\n",
    "\n",
    "  # Aplique o limiar à imagem para binarizá-la\n",
    "  binary_image = image > threshold\n",
    "\n",
    "  return binary_image\n"
   ]
  },
  {
   "cell_type": "markdown",
   "metadata": {
    "id": "INuvxKeT4I7b"
   },
   "source": [
    "Plota um gráfico horizontal da projeção horizontal para visualização da linha de pauta."
   ]
  },
  {
   "cell_type": "code",
   "execution_count": 7,
   "metadata": {
    "id": "sKNxQF2l0chP"
   },
   "outputs": [],
   "source": [
    "def linhadepauta(projection_data):\n",
    "  import matplotlib.pyplot as plt\n",
    "\n",
    "  # Combina os arrays em um único array\n",
    "  combined_data = [item for sublist in projection_data for item in sublist]\n",
    "\n",
    "  # Define o intervalo de exibição no eixo X\n",
    "  x_values = range(1, len(combined_data) + 1)  # De 1 a N\n",
    "\n",
    "  # Define o passo para os rótulos do eixo X (exibe a cada 300 valores)\n",
    "  x_ticks = list(range(1, len(combined_data) + 1, 50))  # Exibe a cada 300 valores\n",
    "\n",
    "  # Cria um gráfico de barras horizontais\n",
    "  plt.barh(x_values, combined_data, color='black')\n",
    "\n",
    "  # Inverte o eixo Y para que os valores mais altos fiquem no topo\n",
    "  plt.gca().invert_yaxis()\n",
    "\n",
    "  # Configura os rótulos do eixo X\n",
    "  plt.yticks(x_ticks, x_ticks)\n",
    "\n",
    "  plt.show()"
   ]
  },
  {
   "cell_type": "markdown",
   "metadata": {
    "id": "Cn_73yBX4cUY"
   },
   "source": [
    "Calcula a projeção horizontal."
   ]
  },
  {
   "cell_type": "code",
   "execution_count": 8,
   "metadata": {
    "id": "5S4i6tqezdRG"
   },
   "outputs": [],
   "source": [
    "def calcular_projecao(img_data, col_row=1):\n",
    "    # Cria uma máscara onde os valores 0 na imagem original são mapeados para 1, e outros para 0\n",
    "    mask = np.uint8(np.where(img_data == 0, 1, 0))\n",
    "\n",
    "    # Calcula a projeção somando os valores na máscara ao longo de uma coluna (col_row=1) ou linha (col_row=0)\n",
    "    # REDUCE_SUM realiza a soma\n",
    "    # dtype=cv2.CV_32SC1 define o tipo de dados do resultado como 32 bits com sinal\n",
    "    count = cv2.reduce(mask, col_row, cv2.REDUCE_SUM, dtype=cv2.CV_32SC1)\n",
    "\n",
    "    return count"
   ]
  },
  {
   "cell_type": "markdown",
   "metadata": {
    "id": "ux2GOiMf4hFw"
   },
   "source": [
    "Rotaciona a imagem."
   ]
  },
  {
   "cell_type": "code",
   "execution_count": 9,
   "metadata": {
    "id": "BzGq7Y54Donp"
   },
   "outputs": [],
   "source": [
    "def girar_imagem(img_data, angle):\n",
    "\n",
    "  # Rotacionar a imagem\n",
    "  new_image = util.img_as_ubyte(transform.rotate(img_data, angle, mode='wrap'))\n",
    "\n",
    "  return new_image"
   ]
  },
  {
   "cell_type": "markdown",
   "metadata": {
    "id": "veiWO21Q4lqa"
   },
   "source": [
    "Endireita a imagem, rotacionando-a caso esteja inclinada."
   ]
  },
  {
   "cell_type": "code",
   "execution_count": 10,
   "metadata": {
    "id": "Fq1pn1-wHmke"
   },
   "outputs": [],
   "source": [
    "def alinhar_linhas(img_data):\n",
    "    best_image = None  # Variável para armazenar a melhor imagem alinhada\n",
    "    maximum = 0  # Variável para armazenar o valor máximo de projeção\n",
    "\n",
    "    # Loop através de diferentes ângulos de rotação\n",
    "    for i in range(-40, 40):\n",
    "        angle = 0.25 * i  # Calcula o ângulo de rotação correspondente\n",
    "\n",
    "        # Gira a imagem original pelo ângulo calculado\n",
    "        new_image = girar_imagem(img_data, angle)\n",
    "\n",
    "        # Binariza a nova imagem (converte para imagem binária)\n",
    "        binary_image = binarizar(new_image)\n",
    "\n",
    "        # Calcula a projeção horizontal da imagem binária\n",
    "        horizontal_projection = calcular_projecao(binary_image)\n",
    "\n",
    "        # Encontra o valor máximo na projeção horizontal\n",
    "        max_projection = max(horizontal_projection)\n",
    "\n",
    "        # Verifica se o valor máximo encontrado é maior que o máximo atual\n",
    "        if max_projection > maximum:\n",
    "            best_image = new_image  # Se for maior, atualiza a melhor imagem\n",
    "            maximum = max_projection  # Atualiza o valor máximo\n",
    "\n",
    "    return best_image  # Retorna a melhor imagem alinhada"
   ]
  },
  {
   "cell_type": "code",
   "execution_count": 11,
   "metadata": {},
   "outputs": [],
   "source": [
    "def get_reference_lenghts(img_data):\n",
    "    black_runs = {}\n",
    "    white_runs = {}\n",
    "    for i in range(img_data.shape[1]): # for all columns\n",
    "        col = img_data[:,i]\n",
    "        for k, g in itertools.groupby(col):\n",
    "            length = len(list(g))\n",
    "            if k == 0:\n",
    "                black_runs[length] = black_runs.get(length, 0) + 1\n",
    "            else:\n",
    "                white_runs[length] = white_runs.get(length, 0) + 1\n",
    "    line_thickness = max(black_runs, key=black_runs.get)\n",
    "    staff_space = max(white_runs, key=white_runs.get)\n",
    "    return(line_thickness, staff_space)"
   ]
  },
  {
   "cell_type": "markdown",
   "metadata": {
    "id": "esa0XDg_Oor7"
   },
   "source": [
    "## Funções Identificar Símbolos"
   ]
  },
  {
   "cell_type": "code",
   "execution_count": 12,
   "metadata": {},
   "outputs": [],
   "source": [
    "def normalize(image):\n",
    "    return (255. - image)/255."
   ]
  },
  {
   "cell_type": "code",
   "execution_count": 13,
   "metadata": {},
   "outputs": [],
   "source": [
    "def resize(image, height):\n",
    "    width = int(float(height * image.shape[1]) / image.shape[0])\n",
    "    sample_img = cv2.resize(image, (width, height))\n",
    "    return sample_img"
   ]
  },
  {
   "cell_type": "code",
   "execution_count": 14,
   "metadata": {},
   "outputs": [],
   "source": [
    "def sparse_tensor_to_strs(sparse_tensor):\n",
    "    indices= sparse_tensor[0][0]\n",
    "    values = sparse_tensor[0][1]\n",
    "    dense_shape = sparse_tensor[0][2]\n",
    "\n",
    "    strs = [ [] for i in range(dense_shape[0]) ]\n",
    "\n",
    "    string = []\n",
    "    ptr = 0\n",
    "    b = 0\n",
    "\n",
    "    for idx in range(len(indices)):\n",
    "        if indices[idx][0] != b:\n",
    "            strs[b] = string\n",
    "            string = []\n",
    "            b = indices[idx][0]\n",
    "\n",
    "        string.append(values[ptr])\n",
    "\n",
    "        ptr = ptr + 1\n",
    "\n",
    "    strs[b] = string\n",
    "\n",
    "    return strs"
   ]
  },
  {
   "cell_type": "code",
   "execution_count": 15,
   "metadata": {},
   "outputs": [],
   "source": [
    "def identificar_simbolos(imagem, vocabulario, diretorio):\n",
    "\n",
    "    # Desabilitar a execução ansiosa\n",
    "    tf.compat.v1.disable_eager_execution()\n",
    "    # Cria um novo grafo padrão do TensorFlow\n",
    "    tf.reset_default_graph()\n",
    "    sess = tf.InteractiveSession()\n",
    "    # Cria um objeto Saver para importar o modelo\n",
    "    saver = tf.train.import_meta_graph(diretorio)\n",
    "\n",
    "    # Restaura os parâmetros do modelo a partir do arquivo\n",
    "    saver.restore(sess, diretorio[:-5])  # Remove a extensão \".meta\" do diretório\n",
    "    graph = tf.get_default_graph()\n",
    "    # logits: As saídas da sua rede neural para reconhecimento de fala (normalmente, saídas de camada softmax)\n",
    "    # seq_len: Um tensor que contém o comprimento das sequências de entrada\n",
    "    input = graph.get_tensor_by_name(\"model_input:0\")\n",
    "    seq_len = graph.get_tensor_by_name(\"seq_lengths:0\")\n",
    "    rnn_keep_prob = graph.get_tensor_by_name(\"keep_prob:0\")\n",
    "    height_tensor = graph.get_tensor_by_name(\"input_height:0\")\n",
    "    width_reduction_tensor = graph.get_tensor_by_name(\"width_reduction:0\")\n",
    "    logits = tf.get_collection(\"logits\")[0]\n",
    "\n",
    "    # Constants that are saved inside the model itself\n",
    "    WIDTH_REDUCTION, HEIGHT = sess.run([width_reduction_tensor, height_tensor])\n",
    "    \n",
    "    decoded, _ = tf.nn.ctc_greedy_decoder(logits, seq_len)\n",
    "\n",
    "    #image = cv2.imread(args.image, cv2.IMREAD_GRAYSCALE)\n",
    "    image = imagem\n",
    "    image = resize(image, HEIGHT)\n",
    "    image = normalize(image)\n",
    "    image = np.asarray(image).reshape(1,image.shape[0],image.shape[1],1)\n",
    "\n",
    "    seq_lengths = [ image.shape[2] / WIDTH_REDUCTION ]\n",
    "\n",
    "    prediction = sess.run(decoded,\n",
    "                            feed_dict={\n",
    "                            input: image,\n",
    "                            seq_len: seq_lengths,\n",
    "                            rnn_keep_prob: 1.0,\n",
    "                        })\n",
    "\n",
    "    str_predictions = sparse_tensor_to_strs(prediction)\n",
    "\n",
    "    return [vocabulario[w] for w in str_predictions[0]]"
   ]
  },
  {
   "cell_type": "markdown",
   "metadata": {
    "id": "xPBrfGM3NLXb"
   },
   "source": [
    "## Pré-processamento"
   ]
  },
  {
   "cell_type": "markdown",
   "metadata": {
    "id": "Cf7MiouZMrIt"
   },
   "source": [
    "### Imagem alinhada e binarizada"
   ]
  },
  {
   "cell_type": "code",
   "execution_count": 16,
   "metadata": {
    "colab": {
     "base_uri": "https://localhost:8080/"
    },
    "id": "O7G8BdfZ0dsr",
    "outputId": "55cd95fe-a71f-450d-ea4c-57f8497bd309"
   },
   "outputs": [
    {
     "name": "stderr",
     "output_type": "stream",
     "text": [
      "C:\\Users\\mateu\\AppData\\Local\\Temp\\ipykernel_8652\\1301399296.py:2: UserWarning: binarizada.jpg is a boolean image: setting True to 255 and False to 0. To silence this warning, please convert the image using img_as_ubyte.\n",
      "  io.imsave(nome+'.jpg', imagem)\n",
      "C:\\Users\\mateu\\AppData\\Local\\Temp\\ipykernel_8652\\1301399296.py:2: UserWarning: binarizada.jpg is a boolean image: setting True to 255 and False to 0. To silence this warning, please convert the image using img_as_ubyte.\n",
      "  io.imsave(nome+'.jpg', imagem)\n"
     ]
    }
   ],
   "source": [
    "imagem = cv2.imread('img.png')\n",
    "imagem_cinza = deixar_cinza(imagem)\n",
    "imagem_binarizada = binarizar(imagem_cinza)\n",
    "\n",
    "salvar_imagem(imagem_binarizada, 'binarizada')"
   ]
  },
  {
   "cell_type": "code",
   "execution_count": 17,
   "metadata": {
    "id": "vOpfW6cOCM_5"
   },
   "outputs": [],
   "source": [
    "imagem_alinhada = alinhar_linhas(imagem_binarizada)\n",
    "salvar_imagem(imagem_alinhada, 'alinhada')"
   ]
  },
  {
   "cell_type": "markdown",
   "metadata": {
    "id": "xHThcEr1W3Cw"
   },
   "source": [
    "### Linha de pauta"
   ]
  },
  {
   "cell_type": "code",
   "execution_count": null,
   "metadata": {
    "colab": {
     "base_uri": "https://localhost:8080/",
     "height": 430
    },
    "id": "HOK9n84yIICp",
    "outputId": "7fcae97e-1c63-449b-ba50-94eebc11b801",
    "scrolled": false
   },
   "outputs": [],
   "source": [
    "projecao = calcular_projecao(imagem_alinhada)\n",
    "linha = linhadepauta(projecao)"
   ]
  },
  {
   "cell_type": "markdown",
   "metadata": {
    "id": "JA6qOCZbxU9x"
   },
   "source": [
    "## Identificar símbolos\n"
   ]
  },
  {
   "cell_type": "code",
   "execution_count": 19,
   "metadata": {
    "colab": {
     "base_uri": "https://localhost:8080/"
    },
    "id": "mSRLl4wGISNO",
    "outputId": "bccb7f9e-b22d-4b9a-f771-9b9177add8f4",
    "scrolled": true
   },
   "outputs": [],
   "source": [
    "vocabulario = ler_vocabulario(diretorio_vocabulario)"
   ]
  },
  {
   "cell_type": "code",
   "execution_count": 20,
   "metadata": {
    "id": "DORRtkyob1zH"
   },
   "outputs": [],
   "source": [
    "# Use a função 'img_as_ubyte' para converter a imagem para ubytes\n",
    "img_data = skimage.img_as_ubyte(imagem_alinhada)"
   ]
  },
  {
   "cell_type": "code",
   "execution_count": 21,
   "metadata": {},
   "outputs": [],
   "source": [
    "line_thickness, staff_space = get_reference_lenghts(img_data)"
   ]
  },
  {
   "cell_type": "code",
   "execution_count": 22,
   "metadata": {
    "scrolled": false
   },
   "outputs": [
    {
     "name": "stdout",
     "output_type": "stream",
     "text": [
      "WARNING:tensorflow:The saved meta_graph is possibly from an older release:\n",
      "'model_variables' collection should be of type 'byte_list', but instead is of type 'node_list'.\n",
      "WARNING:tensorflow:The saved meta_graph is possibly from an older release:\n",
      "'model_variables' collection should be of type 'byte_list', but instead is of type 'node_list'.\n",
      "INFO:tensorflow:Restoring parameters from model\\semantic_model\n",
      "INFO:tensorflow:Restoring parameters from model\\semantic_model\n"
     ]
    }
   ],
   "source": [
    "symbols = identificar_simbolos(img_data, vocabulario, diretorio_modelo)"
   ]
  },
  {
   "cell_type": "code",
   "execution_count": 23,
   "metadata": {},
   "outputs": [
    {
     "name": "stdout",
     "output_type": "stream",
     "text": [
      "['clef-G2', 'keySignature-EbM', 'timeSignature-3/4', 'note-Bb5_quarter', 'note-Eb5_eighth', 'note-Bb5_eighth', 'note-Eb6_eighth', 'note-Bb5_eighth', 'barline', 'note-Ab5_eighth', 'note-Ab5_eighth', 'rest-sixteenth', 'note-Ab5_sixteenth', 'note-G5_sixteenth', 'note-Ab5_sixteenth', 'note-Bb5_sixteenth', 'note-Ab5_sixteenth', 'note-G5_sixteenth', 'note-Ab5_sixteenth', 'barline']\n",
      "['clef-G2', 'keySignature-EbM', 'timeSignature-3/4', 'note-Bb5_quarter', 'note-Eb5_eighth', 'note-Bb5_eighth', 'note-Eb6_eighth', 'note-Bb5_eighth', 'barline', 'note-Ab5_eighth', 'note-Ab5_eighth', 'rest-sixteenth', 'note-Ab5_sixteenth', 'note-G5_sixteenth', 'note-Ab5_sixteenth', 'note-Bb5_sixteenth', 'note-Ab5_sixteenth', 'note-G5_sixteenth', 'note-Ab5_sixteenth', 'barline']\n"
     ]
    }
   ],
   "source": [
    "print(symbols)"
   ]
  },
  {
   "cell_type": "code",
   "execution_count": null,
   "metadata": {},
   "outputs": [],
   "source": []
  }
 ],
 "metadata": {
  "colab": {
   "provenance": []
  },
  "kernelspec": {
   "display_name": "Python 3 (ipykernel)",
   "language": "python",
   "name": "python3"
  },
  "language_info": {
   "codemirror_mode": {
    "name": "ipython",
    "version": 3
   },
   "file_extension": ".py",
   "mimetype": "text/x-python",
   "name": "python",
   "nbconvert_exporter": "python",
   "pygments_lexer": "ipython3",
   "version": "3.10.9"
  }
 },
 "nbformat": 4,
 "nbformat_minor": 1
}
